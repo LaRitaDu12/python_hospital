{
 "cells": [
  {
   "cell_type": "code",
   "execution_count": 8,
   "id": "basic-sperm",
   "metadata": {},
   "outputs": [],
   "source": [
    "import pandas as pd \n",
    "from sklearn.model_selection import train_test_split\n",
    "from sklearn.preprocessing import StandardScaler\n",
    "from sklearn import svm\n",
    "from sklearn.model_selection import GridSearchCV\n",
    "import xgboost as xgb\n",
    "\n",
    "import numpy as np\n",
    "\n",
    "from scipy.stats import uniform, randint\n",
    "\n",
    "from sklearn.datasets import load_breast_cancer, load_diabetes, load_wine\n",
    "from sklearn.metrics import auc, accuracy_score, confusion_matrix, mean_squared_error\n",
    "from sklearn.model_selection import cross_val_score, GridSearchCV, KFold, RandomizedSearchCV, train_test_split\n",
    "from sklearn.preprocessing import StandardScaler\n",
    "import matplotlib.pyplot as plt"
   ]
  },
  {
   "cell_type": "code",
   "execution_count": 9,
   "id": "following-boulder",
   "metadata": {},
   "outputs": [],
   "source": [
    "df=pd.read_csv(\"dummied_full.csv\")"
   ]
  },
  {
   "cell_type": "code",
   "execution_count": 10,
   "id": "unlike-executive",
   "metadata": {},
   "outputs": [
    {
     "data": {
      "text/plain": [
       "array(['NO', 'YES'], dtype=object)"
      ]
     },
     "execution_count": 10,
     "metadata": {},
     "output_type": "execute_result"
    }
   ],
   "source": [
    "df.loc[df[\"Target\"]==\"<30\",\"Target\"]=\"YES\"\n",
    "df.loc[df[\"Target\"]==\">30\",\"Target\"]=\"YES\"\n",
    "\n",
    "df.Target.unique()"
   ]
  },
  {
   "cell_type": "code",
   "execution_count": 11,
   "id": "unnecessary-liabilities",
   "metadata": {},
   "outputs": [],
   "source": [
    "train,test,target_train,target_test=train_test_split(df.drop(\"Target\",axis=1),df.Target,test_size=0.33,random_state=42)"
   ]
  },
  {
   "cell_type": "code",
   "execution_count": 12,
   "id": "confidential-energy",
   "metadata": {},
   "outputs": [
    {
     "name": "stderr",
     "output_type": "stream",
     "text": [
      "G:\\Users\\Othma\\anaconda3\\lib\\site-packages\\xgboost\\sklearn.py:1224: UserWarning: The use of label encoder in XGBClassifier is deprecated and will be removed in a future release. To remove this warning, do the following: 1) Pass option use_label_encoder=False when constructing XGBClassifier object; and 2) Encode your labels (y) as integers starting with 0, i.e. 0, 1, 2, ..., [num_class - 1].\n",
      "  warnings.warn(label_encoder_deprecation_msg, UserWarning)\n"
     ]
    },
    {
     "name": "stdout",
     "output_type": "stream",
     "text": [
      "[11:08:40] WARNING: C:/Users/Administrator/workspace/xgboost-win64_release_1.5.1/src/learner.cc:1115: Starting in XGBoost 1.3.0, the default evaluation metric used with the objective 'binary:logistic' was changed from 'error' to 'logloss'. Explicitly set eval_metric if you'd like to restore the old behavior.\n"
     ]
    },
    {
     "data": {
      "text/plain": [
       "XGBClassifier(base_score=0.5, booster='gbtree', colsample_bylevel=1,\n",
       "              colsample_bynode=1, colsample_bytree=1, enable_categorical=False,\n",
       "              gamma=0, gpu_id=-1, importance_type=None,\n",
       "              interaction_constraints='', learning_rate=0.300000012,\n",
       "              max_delta_step=0, max_depth=6, min_child_weight=1, missing=nan,\n",
       "              monotone_constraints='()', n_estimators=100, n_jobs=12,\n",
       "              num_parallel_tree=1, predictor='auto', random_state=42,\n",
       "              reg_alpha=0, reg_lambda=1, scale_pos_weight=1, subsample=1,\n",
       "              tree_method='exact', validate_parameters=1, verbosity=None)"
      ]
     },
     "execution_count": 12,
     "metadata": {},
     "output_type": "execute_result"
    }
   ],
   "source": [
    "\n",
    "xgb_model=xgb.XGBClassifier(objective=\"binary:logistic\",random_state=42)\n",
    "xgb_model.fit(train,target_train)"
   ]
  },
  {
   "cell_type": "code",
   "execution_count": 13,
   "id": "informed-release",
   "metadata": {},
   "outputs": [
    {
     "name": "stdout",
     "output_type": "stream",
     "text": [
      "[[12353  4879]\n",
      " [ 6998  8554]]\n"
     ]
    }
   ],
   "source": [
    "pred=xgb_model.predict(test)\n",
    "print(confusion_matrix(target_test,pred))"
   ]
  },
  {
   "cell_type": "code",
   "execution_count": 14,
   "id": "worse-facility",
   "metadata": {},
   "outputs": [
    {
     "name": "stdout",
     "output_type": "stream",
     "text": [
      "0.6377196193265008\n"
     ]
    }
   ],
   "source": [
    "print(accuracy_score(target_test,pred))"
   ]
  },
  {
   "cell_type": "code",
   "execution_count": 10,
   "id": "coordinated-somerset",
   "metadata": {},
   "outputs": [
    {
     "name": "stdout",
     "output_type": "stream",
     "text": [
      "The most important features contributions is : 0.0665719211101532 feature number 7 name: number_inpatient\n"
     ]
    }
   ],
   "source": [
    "print(f\"The most important features contributions is : {np.max(xgb_model.feature_importances_)} feature number {np.argmax(xgb_model.feature_importances_)+1} name: number_inpatient\")\n",
    "#print(np.argmax(xgb_model.feature_importances_))"
   ]
  },
  {
   "cell_type": "markdown",
   "id": "weighted-pollution",
   "metadata": {},
   "source": [
    "# Try scaling numerical features"
   ]
  },
  {
   "cell_type": "markdown",
   "id": "anticipated-argentina",
   "metadata": {},
   "source": [
    "# EDIT : Useless because xgboost already scales features"
   ]
  },
  {
   "cell_type": "code",
   "execution_count": 55,
   "id": "marked-confidentiality",
   "metadata": {},
   "outputs": [],
   "source": [
    "data=df[[\"time_in_hospital\",\"num_lab_procedures\",\"num_procedures\",\"num_medications\",\"number_outpatient\",\"number_emergency\",\"number_inpatient\",\"number_diagnoses\"]]"
   ]
  },
  {
   "cell_type": "code",
   "execution_count": 56,
   "id": "stunning-equilibrium",
   "metadata": {},
   "outputs": [],
   "source": [
    "scaler = StandardScaler()"
   ]
  },
  {
   "cell_type": "code",
   "execution_count": 62,
   "id": "finished-structure",
   "metadata": {},
   "outputs": [
    {
     "data": {
      "text/plain": [
       "StandardScaler()"
      ]
     },
     "execution_count": 62,
     "metadata": {},
     "output_type": "execute_result"
    }
   ],
   "source": [
    "scaler.fit(data)"
   ]
  },
  {
   "cell_type": "code",
   "execution_count": 65,
   "id": "unusual-durham",
   "metadata": {},
   "outputs": [],
   "source": [
    "df[[\"time_in_hospital\",\"num_lab_procedures\",\"num_procedures\",\"num_medications\",\"number_outpatient\",\"number_emergency\",\"number_inpatient\",\"number_diagnoses\"]]=pd.DataFrame(scaler.transform(data))"
   ]
  },
  {
   "cell_type": "code",
   "execution_count": 66,
   "id": "driving-invention",
   "metadata": {},
   "outputs": [
    {
     "data": {
      "text/html": [
       "<div>\n",
       "<style scoped>\n",
       "    .dataframe tbody tr th:only-of-type {\n",
       "        vertical-align: middle;\n",
       "    }\n",
       "\n",
       "    .dataframe tbody tr th {\n",
       "        vertical-align: top;\n",
       "    }\n",
       "\n",
       "    .dataframe thead th {\n",
       "        text-align: right;\n",
       "    }\n",
       "</style>\n",
       "<table border=\"1\" class=\"dataframe\">\n",
       "  <thead>\n",
       "    <tr style=\"text-align: right;\">\n",
       "      <th></th>\n",
       "      <th>time_in_hospital</th>\n",
       "      <th>num_lab_procedures</th>\n",
       "      <th>num_procedures</th>\n",
       "      <th>num_medications</th>\n",
       "      <th>number_outpatient</th>\n",
       "      <th>number_emergency</th>\n",
       "      <th>number_inpatient</th>\n",
       "      <th>number_diagnoses</th>\n",
       "      <th>gender_Female</th>\n",
       "      <th>gender_Male</th>\n",
       "      <th>...</th>\n",
       "      <th>admission_source_id_9</th>\n",
       "      <th>admission_source_id_10</th>\n",
       "      <th>admission_source_id_11</th>\n",
       "      <th>admission_source_id_13</th>\n",
       "      <th>admission_source_id_14</th>\n",
       "      <th>admission_source_id_17</th>\n",
       "      <th>admission_source_id_20</th>\n",
       "      <th>admission_source_id_22</th>\n",
       "      <th>admission_source_id_25</th>\n",
       "      <th>Target</th>\n",
       "    </tr>\n",
       "  </thead>\n",
       "  <tbody>\n",
       "    <tr>\n",
       "      <th>0</th>\n",
       "      <td>-1.138438</td>\n",
       "      <td>-0.097243</td>\n",
       "      <td>-0.783565</td>\n",
       "      <td>-1.850439</td>\n",
       "      <td>-0.291863</td>\n",
       "      <td>-0.211622</td>\n",
       "      <td>-0.500575</td>\n",
       "      <td>-3.298145</td>\n",
       "      <td>1</td>\n",
       "      <td>0</td>\n",
       "      <td>...</td>\n",
       "      <td>0</td>\n",
       "      <td>0</td>\n",
       "      <td>0</td>\n",
       "      <td>0</td>\n",
       "      <td>0</td>\n",
       "      <td>0</td>\n",
       "      <td>0</td>\n",
       "      <td>0</td>\n",
       "      <td>0</td>\n",
       "      <td>NO</td>\n",
       "    </tr>\n",
       "    <tr>\n",
       "      <th>1</th>\n",
       "      <td>-0.464673</td>\n",
       "      <td>0.820659</td>\n",
       "      <td>-0.783565</td>\n",
       "      <td>0.249657</td>\n",
       "      <td>-0.291863</td>\n",
       "      <td>-0.211622</td>\n",
       "      <td>-0.500575</td>\n",
       "      <td>0.823436</td>\n",
       "      <td>1</td>\n",
       "      <td>0</td>\n",
       "      <td>...</td>\n",
       "      <td>0</td>\n",
       "      <td>0</td>\n",
       "      <td>0</td>\n",
       "      <td>0</td>\n",
       "      <td>0</td>\n",
       "      <td>0</td>\n",
       "      <td>0</td>\n",
       "      <td>0</td>\n",
       "      <td>0</td>\n",
       "      <td>YES</td>\n",
       "    </tr>\n",
       "    <tr>\n",
       "      <th>2</th>\n",
       "      <td>-0.801555</td>\n",
       "      <td>-1.627080</td>\n",
       "      <td>2.152815</td>\n",
       "      <td>-0.368019</td>\n",
       "      <td>1.288995</td>\n",
       "      <td>-0.211622</td>\n",
       "      <td>0.292810</td>\n",
       "      <td>-0.722157</td>\n",
       "      <td>1</td>\n",
       "      <td>0</td>\n",
       "      <td>...</td>\n",
       "      <td>0</td>\n",
       "      <td>0</td>\n",
       "      <td>0</td>\n",
       "      <td>0</td>\n",
       "      <td>0</td>\n",
       "      <td>0</td>\n",
       "      <td>0</td>\n",
       "      <td>0</td>\n",
       "      <td>0</td>\n",
       "      <td>NO</td>\n",
       "    </tr>\n",
       "    <tr>\n",
       "      <th>3</th>\n",
       "      <td>-0.801555</td>\n",
       "      <td>0.055741</td>\n",
       "      <td>-0.196289</td>\n",
       "      <td>0.002587</td>\n",
       "      <td>-0.291863</td>\n",
       "      <td>-0.211622</td>\n",
       "      <td>-0.500575</td>\n",
       "      <td>-0.206960</td>\n",
       "      <td>0</td>\n",
       "      <td>1</td>\n",
       "      <td>...</td>\n",
       "      <td>0</td>\n",
       "      <td>0</td>\n",
       "      <td>0</td>\n",
       "      <td>0</td>\n",
       "      <td>0</td>\n",
       "      <td>0</td>\n",
       "      <td>0</td>\n",
       "      <td>0</td>\n",
       "      <td>0</td>\n",
       "      <td>NO</td>\n",
       "    </tr>\n",
       "    <tr>\n",
       "      <th>4</th>\n",
       "      <td>-1.138438</td>\n",
       "      <td>0.412703</td>\n",
       "      <td>-0.783565</td>\n",
       "      <td>-0.985694</td>\n",
       "      <td>-0.291863</td>\n",
       "      <td>-0.211622</td>\n",
       "      <td>-0.500575</td>\n",
       "      <td>-1.237355</td>\n",
       "      <td>0</td>\n",
       "      <td>1</td>\n",
       "      <td>...</td>\n",
       "      <td>0</td>\n",
       "      <td>0</td>\n",
       "      <td>0</td>\n",
       "      <td>0</td>\n",
       "      <td>0</td>\n",
       "      <td>0</td>\n",
       "      <td>0</td>\n",
       "      <td>0</td>\n",
       "      <td>0</td>\n",
       "      <td>NO</td>\n",
       "    </tr>\n",
       "    <tr>\n",
       "      <th>...</th>\n",
       "      <td>...</td>\n",
       "      <td>...</td>\n",
       "      <td>...</td>\n",
       "      <td>...</td>\n",
       "      <td>...</td>\n",
       "      <td>...</td>\n",
       "      <td>...</td>\n",
       "      <td>...</td>\n",
       "      <td>...</td>\n",
       "      <td>...</td>\n",
       "      <td>...</td>\n",
       "      <td>...</td>\n",
       "      <td>...</td>\n",
       "      <td>...</td>\n",
       "      <td>...</td>\n",
       "      <td>...</td>\n",
       "      <td>...</td>\n",
       "      <td>...</td>\n",
       "      <td>...</td>\n",
       "      <td>...</td>\n",
       "      <td>...</td>\n",
       "    </tr>\n",
       "    <tr>\n",
       "      <th>99338</th>\n",
       "      <td>-0.464673</td>\n",
       "      <td>0.412703</td>\n",
       "      <td>-0.783565</td>\n",
       "      <td>0.002587</td>\n",
       "      <td>-0.291863</td>\n",
       "      <td>-0.211622</td>\n",
       "      <td>-0.500575</td>\n",
       "      <td>0.823436</td>\n",
       "      <td>0</td>\n",
       "      <td>1</td>\n",
       "      <td>...</td>\n",
       "      <td>0</td>\n",
       "      <td>0</td>\n",
       "      <td>0</td>\n",
       "      <td>0</td>\n",
       "      <td>0</td>\n",
       "      <td>0</td>\n",
       "      <td>0</td>\n",
       "      <td>0</td>\n",
       "      <td>0</td>\n",
       "      <td>YES</td>\n",
       "    </tr>\n",
       "    <tr>\n",
       "      <th>99339</th>\n",
       "      <td>0.209092</td>\n",
       "      <td>-0.505200</td>\n",
       "      <td>0.978263</td>\n",
       "      <td>0.249657</td>\n",
       "      <td>-0.291863</td>\n",
       "      <td>-0.211622</td>\n",
       "      <td>0.292810</td>\n",
       "      <td>0.823436</td>\n",
       "      <td>1</td>\n",
       "      <td>0</td>\n",
       "      <td>...</td>\n",
       "      <td>0</td>\n",
       "      <td>0</td>\n",
       "      <td>0</td>\n",
       "      <td>0</td>\n",
       "      <td>0</td>\n",
       "      <td>0</td>\n",
       "      <td>0</td>\n",
       "      <td>0</td>\n",
       "      <td>0</td>\n",
       "      <td>NO</td>\n",
       "    </tr>\n",
       "    <tr>\n",
       "      <th>99340</th>\n",
       "      <td>-1.138438</td>\n",
       "      <td>0.514692</td>\n",
       "      <td>-0.783565</td>\n",
       "      <td>-0.862159</td>\n",
       "      <td>0.498566</td>\n",
       "      <td>-0.211622</td>\n",
       "      <td>-0.500575</td>\n",
       "      <td>2.884226</td>\n",
       "      <td>0</td>\n",
       "      <td>1</td>\n",
       "      <td>...</td>\n",
       "      <td>0</td>\n",
       "      <td>0</td>\n",
       "      <td>0</td>\n",
       "      <td>0</td>\n",
       "      <td>0</td>\n",
       "      <td>0</td>\n",
       "      <td>0</td>\n",
       "      <td>0</td>\n",
       "      <td>0</td>\n",
       "      <td>NO</td>\n",
       "    </tr>\n",
       "    <tr>\n",
       "      <th>99341</th>\n",
       "      <td>1.893505</td>\n",
       "      <td>0.106735</td>\n",
       "      <td>0.390987</td>\n",
       "      <td>0.620262</td>\n",
       "      <td>-0.291863</td>\n",
       "      <td>-0.211622</td>\n",
       "      <td>0.292810</td>\n",
       "      <td>0.823436</td>\n",
       "      <td>1</td>\n",
       "      <td>0</td>\n",
       "      <td>...</td>\n",
       "      <td>0</td>\n",
       "      <td>0</td>\n",
       "      <td>0</td>\n",
       "      <td>0</td>\n",
       "      <td>0</td>\n",
       "      <td>0</td>\n",
       "      <td>0</td>\n",
       "      <td>0</td>\n",
       "      <td>0</td>\n",
       "      <td>NO</td>\n",
       "    </tr>\n",
       "    <tr>\n",
       "      <th>99342</th>\n",
       "      <td>0.545975</td>\n",
       "      <td>-1.525091</td>\n",
       "      <td>0.978263</td>\n",
       "      <td>-1.603369</td>\n",
       "      <td>-0.291863</td>\n",
       "      <td>-0.211622</td>\n",
       "      <td>-0.500575</td>\n",
       "      <td>0.823436</td>\n",
       "      <td>0</td>\n",
       "      <td>1</td>\n",
       "      <td>...</td>\n",
       "      <td>0</td>\n",
       "      <td>0</td>\n",
       "      <td>0</td>\n",
       "      <td>0</td>\n",
       "      <td>0</td>\n",
       "      <td>0</td>\n",
       "      <td>0</td>\n",
       "      <td>0</td>\n",
       "      <td>0</td>\n",
       "      <td>NO</td>\n",
       "    </tr>\n",
       "  </tbody>\n",
       "</table>\n",
       "<p>99343 rows × 307 columns</p>\n",
       "</div>"
      ],
      "text/plain": [
       "       time_in_hospital  num_lab_procedures  num_procedures  num_medications  \\\n",
       "0             -1.138438           -0.097243       -0.783565        -1.850439   \n",
       "1             -0.464673            0.820659       -0.783565         0.249657   \n",
       "2             -0.801555           -1.627080        2.152815        -0.368019   \n",
       "3             -0.801555            0.055741       -0.196289         0.002587   \n",
       "4             -1.138438            0.412703       -0.783565        -0.985694   \n",
       "...                 ...                 ...             ...              ...   \n",
       "99338         -0.464673            0.412703       -0.783565         0.002587   \n",
       "99339          0.209092           -0.505200        0.978263         0.249657   \n",
       "99340         -1.138438            0.514692       -0.783565        -0.862159   \n",
       "99341          1.893505            0.106735        0.390987         0.620262   \n",
       "99342          0.545975           -1.525091        0.978263        -1.603369   \n",
       "\n",
       "       number_outpatient  number_emergency  number_inpatient  \\\n",
       "0              -0.291863         -0.211622         -0.500575   \n",
       "1              -0.291863         -0.211622         -0.500575   \n",
       "2               1.288995         -0.211622          0.292810   \n",
       "3              -0.291863         -0.211622         -0.500575   \n",
       "4              -0.291863         -0.211622         -0.500575   \n",
       "...                  ...               ...               ...   \n",
       "99338          -0.291863         -0.211622         -0.500575   \n",
       "99339          -0.291863         -0.211622          0.292810   \n",
       "99340           0.498566         -0.211622         -0.500575   \n",
       "99341          -0.291863         -0.211622          0.292810   \n",
       "99342          -0.291863         -0.211622         -0.500575   \n",
       "\n",
       "       number_diagnoses  gender_Female  gender_Male  ...  \\\n",
       "0             -3.298145              1            0  ...   \n",
       "1              0.823436              1            0  ...   \n",
       "2             -0.722157              1            0  ...   \n",
       "3             -0.206960              0            1  ...   \n",
       "4             -1.237355              0            1  ...   \n",
       "...                 ...            ...          ...  ...   \n",
       "99338          0.823436              0            1  ...   \n",
       "99339          0.823436              1            0  ...   \n",
       "99340          2.884226              0            1  ...   \n",
       "99341          0.823436              1            0  ...   \n",
       "99342          0.823436              0            1  ...   \n",
       "\n",
       "       admission_source_id_9  admission_source_id_10  admission_source_id_11  \\\n",
       "0                          0                       0                       0   \n",
       "1                          0                       0                       0   \n",
       "2                          0                       0                       0   \n",
       "3                          0                       0                       0   \n",
       "4                          0                       0                       0   \n",
       "...                      ...                     ...                     ...   \n",
       "99338                      0                       0                       0   \n",
       "99339                      0                       0                       0   \n",
       "99340                      0                       0                       0   \n",
       "99341                      0                       0                       0   \n",
       "99342                      0                       0                       0   \n",
       "\n",
       "       admission_source_id_13  admission_source_id_14  admission_source_id_17  \\\n",
       "0                           0                       0                       0   \n",
       "1                           0                       0                       0   \n",
       "2                           0                       0                       0   \n",
       "3                           0                       0                       0   \n",
       "4                           0                       0                       0   \n",
       "...                       ...                     ...                     ...   \n",
       "99338                       0                       0                       0   \n",
       "99339                       0                       0                       0   \n",
       "99340                       0                       0                       0   \n",
       "99341                       0                       0                       0   \n",
       "99342                       0                       0                       0   \n",
       "\n",
       "       admission_source_id_20  admission_source_id_22  admission_source_id_25  \\\n",
       "0                           0                       0                       0   \n",
       "1                           0                       0                       0   \n",
       "2                           0                       0                       0   \n",
       "3                           0                       0                       0   \n",
       "4                           0                       0                       0   \n",
       "...                       ...                     ...                     ...   \n",
       "99338                       0                       0                       0   \n",
       "99339                       0                       0                       0   \n",
       "99340                       0                       0                       0   \n",
       "99341                       0                       0                       0   \n",
       "99342                       0                       0                       0   \n",
       "\n",
       "       Target  \n",
       "0          NO  \n",
       "1         YES  \n",
       "2          NO  \n",
       "3          NO  \n",
       "4          NO  \n",
       "...       ...  \n",
       "99338     YES  \n",
       "99339      NO  \n",
       "99340      NO  \n",
       "99341      NO  \n",
       "99342      NO  \n",
       "\n",
       "[99343 rows x 307 columns]"
      ]
     },
     "execution_count": 66,
     "metadata": {},
     "output_type": "execute_result"
    }
   ],
   "source": [
    "df"
   ]
  },
  {
   "cell_type": "code",
   "execution_count": null,
   "id": "numerical-integer",
   "metadata": {},
   "outputs": [],
   "source": [
    "train,test,target_train,target_test=train_test_split(df.drop(\"Target\",axis=1),df.Target,test_size=0.33,random_state=42)"
   ]
  },
  {
   "cell_type": "code",
   "execution_count": 67,
   "id": "second-official",
   "metadata": {},
   "outputs": [
    {
     "name": "stderr",
     "output_type": "stream",
     "text": [
      "G:\\Users\\Othma\\anaconda3\\lib\\site-packages\\xgboost\\sklearn.py:1224: UserWarning: The use of label encoder in XGBClassifier is deprecated and will be removed in a future release. To remove this warning, do the following: 1) Pass option use_label_encoder=False when constructing XGBClassifier object; and 2) Encode your labels (y) as integers starting with 0, i.e. 0, 1, 2, ..., [num_class - 1].\n",
      "  warnings.warn(label_encoder_deprecation_msg, UserWarning)\n"
     ]
    },
    {
     "name": "stdout",
     "output_type": "stream",
     "text": [
      "[20:15:12] WARNING: C:/Users/Administrator/workspace/xgboost-win64_release_1.5.1/src/learner.cc:1115: Starting in XGBoost 1.3.0, the default evaluation metric used with the objective 'binary:logistic' was changed from 'error' to 'logloss'. Explicitly set eval_metric if you'd like to restore the old behavior.\n",
      "[[12353  4879]\n",
      " [ 6998  8554]]\n",
      "0.6377196193265008\n"
     ]
    }
   ],
   "source": [
    "xgb_model=xgb.XGBClassifier(objective=\"binary:logistic\",random_state=42)\n",
    "xgb_model.fit(train,target_train)\n",
    "pred=xgb_model.predict(test)\n",
    "print(confusion_matrix(target_test,pred))\n",
    "print(accuracy_score(target_test,pred))"
   ]
  },
  {
   "cell_type": "markdown",
   "id": "widespread-right",
   "metadata": {},
   "source": [
    "# Trying RandomizedSearchCV next"
   ]
  },
  {
   "cell_type": "code",
   "execution_count": 6,
   "id": "permanent-basic",
   "metadata": {},
   "outputs": [],
   "source": [
    "parameters = {\n",
    "    'max_depth': range (2, 10, 1),\n",
    "    'n_estimators': range(60, 220, 40),\n",
    "    'learning_rate': [0.1, 0.01, 0.05]\n",
    "}"
   ]
  },
  {
   "cell_type": "code",
   "execution_count": 7,
   "id": "executed-taste",
   "metadata": {},
   "outputs": [
    {
     "ename": "NameError",
     "evalue": "name 'xgb_model' is not defined",
     "output_type": "error",
     "traceback": [
      "\u001b[1;31m---------------------------------------------------------------------------\u001b[0m",
      "\u001b[1;31mNameError\u001b[0m                                 Traceback (most recent call last)",
      "\u001b[1;32m<ipython-input-7-15edc19ba5ce>\u001b[0m in \u001b[0;36m<module>\u001b[1;34m\u001b[0m\n\u001b[1;32m----> 1\u001b[1;33m \u001b[0mclf\u001b[0m\u001b[1;33m=\u001b[0m\u001b[0mRandomizedSearchCV\u001b[0m\u001b[1;33m(\u001b[0m\u001b[0mxgb_model\u001b[0m\u001b[1;33m,\u001b[0m\u001b[0mparam_distributions\u001b[0m\u001b[1;33m=\u001b[0m\u001b[0mparameters\u001b[0m\u001b[1;33m,\u001b[0m\u001b[0mrandom_state\u001b[0m\u001b[1;33m=\u001b[0m\u001b[1;36m42\u001b[0m\u001b[1;33m,\u001b[0m\u001b[0mn_jobs\u001b[0m\u001b[1;33m=\u001b[0m\u001b[1;33m-\u001b[0m\u001b[1;36m1\u001b[0m\u001b[1;33m,\u001b[0m\u001b[0mcv\u001b[0m\u001b[1;33m=\u001b[0m\u001b[1;36m10\u001b[0m\u001b[1;33m)\u001b[0m\u001b[1;33m\u001b[0m\u001b[1;33m\u001b[0m\u001b[0m\n\u001b[0m\u001b[0;32m      2\u001b[0m \u001b[1;33m\u001b[0m\u001b[0m\n\u001b[0;32m      3\u001b[0m \u001b[0msearch\u001b[0m\u001b[1;33m=\u001b[0m\u001b[0mclf\u001b[0m\u001b[1;33m.\u001b[0m\u001b[0mfit\u001b[0m\u001b[1;33m(\u001b[0m\u001b[0mtrain\u001b[0m\u001b[1;33m,\u001b[0m\u001b[0mtarget_train\u001b[0m\u001b[1;33m)\u001b[0m\u001b[1;33m\u001b[0m\u001b[1;33m\u001b[0m\u001b[0m\n\u001b[0;32m      4\u001b[0m \u001b[0msearch\u001b[0m\u001b[1;33m.\u001b[0m\u001b[0mbest_params_\u001b[0m\u001b[1;33m\u001b[0m\u001b[1;33m\u001b[0m\u001b[0m\n",
      "\u001b[1;31mNameError\u001b[0m: name 'xgb_model' is not defined"
     ]
    }
   ],
   "source": [
    "clf=RandomizedSearchCV(xgb_model,param_distributions=parameters,random_state=42,n_jobs=-1,cv=10)\n",
    "\n",
    "search=clf.fit(train,target_train)\n",
    "search.best_params_"
   ]
  },
  {
   "cell_type": "code",
   "execution_count": 20,
   "id": "passive-graphics",
   "metadata": {},
   "outputs": [
    {
     "data": {
      "text/plain": [
       "{'n_estimators': 140, 'max_depth': 9, 'learning_rate': 0.05}"
      ]
     },
     "execution_count": 20,
     "metadata": {},
     "output_type": "execute_result"
    }
   ],
   "source": [
    "search.best_params_"
   ]
  },
  {
   "cell_type": "markdown",
   "id": "varied-mandate",
   "metadata": {},
   "source": [
    "# best Learning rate is 0.05, since it's the last value of the list we might ant to try other values "
   ]
  },
  {
   "cell_type": "code",
   "execution_count": 21,
   "id": "numerous-singapore",
   "metadata": {},
   "outputs": [],
   "source": [
    "parameters = {\n",
    "    'max_depth': range (2, 10, 1),\n",
    "    'n_estimators': range(60, 220, 40),\n",
    "    'learning_rate': [0.1, 0.01, 0.05, 0.02, 0.03, 0.04]\n",
    "}"
   ]
  },
  {
   "cell_type": "code",
   "execution_count": 22,
   "id": "voluntary-taiwan",
   "metadata": {},
   "outputs": [
    {
     "name": "stderr",
     "output_type": "stream",
     "text": [
      "G:\\Users\\Othma\\anaconda3\\lib\\site-packages\\xgboost\\sklearn.py:1224: UserWarning: The use of label encoder in XGBClassifier is deprecated and will be removed in a future release. To remove this warning, do the following: 1) Pass option use_label_encoder=False when constructing XGBClassifier object; and 2) Encode your labels (y) as integers starting with 0, i.e. 0, 1, 2, ..., [num_class - 1].\n",
      "  warnings.warn(label_encoder_deprecation_msg, UserWarning)\n"
     ]
    },
    {
     "name": "stdout",
     "output_type": "stream",
     "text": [
      "[09:52:11] WARNING: C:/Users/Administrator/workspace/xgboost-win64_release_1.5.1/src/learner.cc:1115: Starting in XGBoost 1.3.0, the default evaluation metric used with the objective 'binary:logistic' was changed from 'error' to 'logloss'. Explicitly set eval_metric if you'd like to restore the old behavior.\n"
     ]
    },
    {
     "data": {
      "text/plain": [
       "{'n_estimators': 140, 'max_depth': 6, 'learning_rate': 0.1}"
      ]
     },
     "execution_count": 22,
     "metadata": {},
     "output_type": "execute_result"
    }
   ],
   "source": [
    "clf=RandomizedSearchCV(xgb_model,param_distributions=parameters,random_state=42,n_jobs=-1,cv=10)\n",
    "\n",
    "search=clf.fit(train,target_train)\n",
    "search.best_params_"
   ]
  },
  {
   "cell_type": "markdown",
   "id": "blessed-alaska",
   "metadata": {},
   "source": [
    "# Best params overall : n_estimators: 140 | max_depth: 6 | learning_rate: 0.1"
   ]
  },
  {
   "cell_type": "code",
   "execution_count": 15,
   "id": "prime-manual",
   "metadata": {},
   "outputs": [
    {
     "name": "stderr",
     "output_type": "stream",
     "text": [
      "G:\\Users\\Othma\\anaconda3\\lib\\site-packages\\xgboost\\sklearn.py:1224: UserWarning: The use of label encoder in XGBClassifier is deprecated and will be removed in a future release. To remove this warning, do the following: 1) Pass option use_label_encoder=False when constructing XGBClassifier object; and 2) Encode your labels (y) as integers starting with 0, i.e. 0, 1, 2, ..., [num_class - 1].\n",
      "  warnings.warn(label_encoder_deprecation_msg, UserWarning)\n"
     ]
    },
    {
     "name": "stdout",
     "output_type": "stream",
     "text": [
      "[[12634  4598]\n",
      " [ 7273  8279]]\n",
      "0.637902635431918\n"
     ]
    }
   ],
   "source": [
    "xgb_model=xgb.XGBClassifier(objective=\"binary:logistic\",random_state=42,n_estimators=140,max_depth=6,learning_rate=0.1,verbosity=0)\n",
    "xgb_model.fit(train,target_train)\n",
    "pred=xgb_model.predict(test)\n",
    "print(confusion_matrix(target_test,pred))\n",
    "print(accuracy_score(target_test,pred))"
   ]
  },
  {
   "cell_type": "markdown",
   "id": "conditional-evans",
   "metadata": {},
   "source": [
    "# Sadly the accuracy barely gets better"
   ]
  },
  {
   "cell_type": "code",
   "execution_count": 16,
   "id": "controlling-cherry",
   "metadata": {},
   "outputs": [],
   "source": [
    "import seaborn as sns\n"
   ]
  },
  {
   "cell_type": "code",
   "execution_count": 21,
   "id": "passing-pavilion",
   "metadata": {},
   "outputs": [
    {
     "data": {
      "text/plain": [
       "<AxesSubplot:xlabel='col_0', ylabel='Target'>"
      ]
     },
     "execution_count": 21,
     "metadata": {},
     "output_type": "execute_result"
    },
    {
     "data": {
      "image/png": "[encoded data removed]",
      "text/plain": [
       "<Figure size 720x576 with 2 Axes>"
      ]
     },
     "metadata": {},
     "output_type": "display_data"
    }
   ],
   "source": [
    "sns.set_style(\"whitegrid\")\n",
    "\n",
    "cf_matrix=pd.crosstab(target_test,pred)\n",
    "\n",
    "fig, ax = plt.subplots(figsize=(10,8))\n",
    "sns.heatmap(cf_matrix,annot=True,ax=ax,fmt='g',cmap=\"mako\")"
   ]
  },
  {
   "cell_type": "code",
   "execution_count": null,
   "id": "alive-graduate",
   "metadata": {},
   "outputs": [],
   "source": []
  },
  {
   "cell_type": "code",
   "execution_count": null,
   "id": "great-happening",
   "metadata": {},
   "outputs": [],
   "source": []
  },
  {
   "cell_type": "code",
   "execution_count": null,
   "id": "another-fitting",
   "metadata": {},
   "outputs": [],
   "source": []
  }
 ],
 "metadata": {
  "kernelspec": {
   "display_name": "Python 3",
   "language": "python",
   "name": "python3"
  },
  "language_info": {
   "codemirror_mode": {
    "name": "ipython",
    "version": 3
   },
   "file_extension": ".py",
   "mimetype": "text/x-python",
   "name": "python",
   "nbconvert_exporter": "python",
   "pygments_lexer": "ipython3",
   "version": "3.8.5"
  }
 },
 "nbformat": 4,
 "nbformat_minor": 5
}
