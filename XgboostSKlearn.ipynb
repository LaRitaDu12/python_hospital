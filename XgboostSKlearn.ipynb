{
 "cells": [
  {
   "cell_type": "code",
   "execution_count": 1,
   "id": "basic-sperm",
   "metadata": {},
   "outputs": [],
   "source": [
    "import pandas as pd \n",
    "from sklearn.model_selection import train_test_split\n",
    "from sklearn.preprocessing import StandardScaler\n",
    "from sklearn import svm\n",
    "from sklearn.model_selection import GridSearchCV\n",
    "import xgboost as xgb\n",
    "\n",
    "import numpy as np\n",
    "\n",
    "from scipy.stats import uniform, randint\n",
    "\n",
    "from sklearn.datasets import load_breast_cancer, load_diabetes, load_wine\n",
    "from sklearn.metrics import auc, accuracy_score, confusion_matrix, mean_squared_error\n",
    "from sklearn.model_selection import cross_val_score, GridSearchCV, KFold, RandomizedSearchCV, train_test_split\n",
    "from sklearn.preprocessing import StandardScaler\n",
    "import matplotlib.pyplot as plt"
   ]
  },
  {
   "cell_type": "code",
   "execution_count": 2,
   "id": "following-boulder",
   "metadata": {},
   "outputs": [],
   "source": [
    "df=pd.read_csv(\"dummied_full.csv\")"
   ]
  },
  {
   "cell_type": "code",
   "execution_count": 11,
   "id": "unnecessary-liabilities",
   "metadata": {},
   "outputs": [],
   "source": [
    "train,test,target_train,target_test=train_test_split(df.drop(\"Target\",axis=1),df.Target,test_size=0.33,random_state=42)"
   ]
  },
  {
   "cell_type": "code",
   "execution_count": 12,
   "id": "confidential-energy",
   "metadata": {},
   "outputs": [
    {
     "name": "stderr",
     "output_type": "stream",
     "text": [
      "G:\\Users\\Othma\\anaconda3\\lib\\site-packages\\xgboost\\sklearn.py:1224: UserWarning: The use of label encoder in XGBClassifier is deprecated and will be removed in a future release. To remove this warning, do the following: 1) Pass option use_label_encoder=False when constructing XGBClassifier object; and 2) Encode your labels (y) as integers starting with 0, i.e. 0, 1, 2, ..., [num_class - 1].\n",
      "  warnings.warn(label_encoder_deprecation_msg, UserWarning)\n"
     ]
    },
    {
     "name": "stdout",
     "output_type": "stream",
     "text": [
      "[11:08:40] WARNING: C:/Users/Administrator/workspace/xgboost-win64_release_1.5.1/src/learner.cc:1115: Starting in XGBoost 1.3.0, the default evaluation metric used with the objective 'binary:logistic' was changed from 'error' to 'logloss'. Explicitly set eval_metric if you'd like to restore the old behavior.\n"
     ]
    },
    {
     "data": {
      "text/plain": [
       "XGBClassifier(base_score=0.5, booster='gbtree', colsample_bylevel=1,\n",
       "              colsample_bynode=1, colsample_bytree=1, enable_categorical=False,\n",
       "              gamma=0, gpu_id=-1, importance_type=None,\n",
       "              interaction_constraints='', learning_rate=0.300000012,\n",
       "              max_delta_step=0, max_depth=6, min_child_weight=1, missing=nan,\n",
       "              monotone_constraints='()', n_estimators=100, n_jobs=12,\n",
       "              num_parallel_tree=1, predictor='auto', random_state=42,\n",
       "              reg_alpha=0, reg_lambda=1, scale_pos_weight=1, subsample=1,\n",
       "              tree_method='exact', validate_parameters=1, verbosity=None)"
      ]
     },
     "execution_count": 12,
     "metadata": {},
     "output_type": "execute_result"
    }
   ],
   "source": [
    "\n",
    "xgb_model=xgb.XGBClassifier(objective=\"binary:logistic\",random_state=42)\n",
    "xgb_model.fit(train,target_train)"
   ]
  },
  {
   "cell_type": "code",
   "execution_count": 13,
   "id": "informed-release",
   "metadata": {},
   "outputs": [
    {
     "name": "stdout",
     "output_type": "stream",
     "text": [
      "[[12353  4879]\n",
      " [ 6998  8554]]\n"
     ]
    }
   ],
   "source": [
    "pred=xgb_model.predict(test)\n",
    "print(confusion_matrix(target_test,pred))"
   ]
  },
  {
   "cell_type": "code",
   "execution_count": 14,
   "id": "worse-facility",
   "metadata": {},
   "outputs": [
    {
     "name": "stdout",
     "output_type": "stream",
     "text": [
      "0.6377196193265008\n"
     ]
    }
   ],
   "source": [
    "print(accuracy_score(target_test,pred))"
   ]
  },
  {
   "cell_type": "code",
   "execution_count": 10,
   "id": "coordinated-somerset",
   "metadata": {},
   "outputs": [
    {
     "name": "stdout",
     "output_type": "stream",
     "text": [
      "The most important features contributions is : 0.0665719211101532 feature number 7 name: number_inpatient\n"
     ]
    }
   ],
   "source": [
    "print(f\"The most important features contributions is : {np.max(xgb_model.feature_importances_)} feature number {np.argmax(xgb_model.feature_importances_)+1} name: number_inpatient\")\n",
    "#print(np.argmax(xgb_model.feature_importances_))"
   ]
  },
  {
   "cell_type": "markdown",
   "id": "weighted-pollution",
   "metadata": {},
   "source": [
    "# Try scaling numerical features"
   ]
  },
  {
   "cell_type": "markdown",
   "id": "anticipated-argentina",
   "metadata": {},
   "source": [
    "# EDIT : Useless because xgboost already scales features"
   ]
  },
  {
   "cell_type": "code",
   "execution_count": 55,
   "id": "marked-confidentiality",
   "metadata": {},
   "outputs": [],
   "source": [
    "data=df[[\"time_in_hospital\",\"num_lab_procedures\",\"num_procedures\",\"num_medications\",\"number_outpatient\",\"number_emergency\",\"number_inpatient\",\"number_diagnoses\"]]"
   ]
  },
  {
   "cell_type": "code",
   "execution_count": 56,
   "id": "stunning-equilibrium",
   "metadata": {},
   "outputs": [],
   "source": [
    "scaler = StandardScaler()"
   ]
  },
  {
   "cell_type": "code",
   "execution_count": 62,
   "id": "finished-structure",
   "metadata": {},
   "outputs": [
    {
     "data": {
      "text/plain": [
       "StandardScaler()"
      ]
     },
     "execution_count": 62,
     "metadata": {},
     "output_type": "execute_result"
    }
   ],
   "source": [
    "scaler.fit(data)"
   ]
  },
  {
   "cell_type": "code",
   "execution_count": 65,
   "id": "unusual-durham",
   "metadata": {},
   "outputs": [],
   "source": [
    "df[[\"time_in_hospital\",\"num_lab_procedures\",\"num_procedures\",\"num_medications\",\"number_outpatient\",\"number_emergency\",\"number_inpatient\",\"number_diagnoses\"]]=pd.DataFrame(scaler.transform(data))"
   ]
  },
  {
   "cell_type": "code",
   "execution_count": 66,
   "id": "driving-invention",
   "metadata": {},
   "outputs": [
    {
     "data": {
      "text/html": [
       "<div>\n",
       "<style scoped>\n",
       "    .dataframe tbody tr th:only-of-type {\n",
       "        vertical-align: middle;\n",
       "    }\n",
       "\n",
       "    .dataframe tbody tr th {\n",
       "        vertical-align: top;\n",
       "    }\n",
       "\n",
       "    .dataframe thead th {\n",
       "        text-align: right;\n",
       "    }\n",
       "</style>\n",
       "<table border=\"1\" class=\"dataframe\">\n",
       "  <thead>\n",
       "    <tr style=\"text-align: right;\">\n",
       "      <th></th>\n",
       "      <th>time_in_hospital</th>\n",
       "      <th>num_lab_procedures</th>\n",
       "      <th>num_procedures</th>\n",
       "      <th>num_medications</th>\n",
       "      <th>number_outpatient</th>\n",
       "      <th>number_emergency</th>\n",
       "      <th>number_inpatient</th>\n",
       "      <th>number_diagnoses</th>\n",
       "      <th>gender_Female</th>\n",
       "      <th>gender_Male</th>\n",
       "      <th>...</th>\n",
       "      <th>admission_source_id_9</th>\n",
       "      <th>admission_source_id_10</th>\n",
       "      <th>admission_source_id_11</th>\n",
       "      <th>admission_source_id_13</th>\n",
       "      <th>admission_source_id_14</th>\n",
       "      <th>admission_source_id_17</th>\n",
       "      <th>admission_source_id_20</th>\n",
       "      <th>admission_source_id_22</th>\n",
       "      <th>admission_source_id_25</th>\n",
       "      <th>Target</th>\n",
       "    </tr>\n",
       "  </thead>\n",
       "  <tbody>\n",
       "    <tr>\n",
       "      <th>0</th>\n",
       "      <td>-1.138438</td>\n",
       "      <td>-0.097243</td>\n",
       "      <td>-0.783565</td>\n",
       "      <td>-1.850439</td>\n",
       "      <td>-0.291863</td>\n",
       "      <td>-0.211622</td>\n",
       "      <td>-0.500575</td>\n",
       "      <td>-3.298145</td>\n",
       "      <td>1</td>\n",
       "      <td>0</td>\n",
       "      <td>...</td>\n",
       "      <td>0</td>\n",
       "      <td>0</td>\n",
       "      <td>0</td>\n",
       "      <td>0</td>\n",
       "      <td>0</td>\n",
       "      <td>0</td>\n",
       "      <td>0</td>\n",
       "      <td>0</td>\n",
       "      <td>0</td>\n",
       "      <td>NO</td>\n",
       "    </tr>\n",
       "    <tr>\n",
       "      <th>1</th>\n",
       "      <td>-0.464673</td>\n",
       "      <td>0.820659</td>\n",
       "      <td>-0.783565</td>\n",
       "      <td>0.249657</td>\n",
       "      <td>-0.291863</td>\n",
       "      <td>-0.211622</td>\n",
       "      <td>-0.500575</td>\n",
       "      <td>0.823436</td>\n",
       "      <td>1</td>\n",
       "      <td>0</td>\n",
       "      <td>...</td>\n",
       "      <td>0</td>\n",
       "      <td>0</td>\n",
       "      <td>0</td>\n",
       "      <td>0</td>\n",
       "      <td>0</td>\n",
       "      <td>0</td>\n",
       "      <td>0</td>\n",
       "      <td>0</td>\n",
       "      <td>0</td>\n",
       "      <td>YES</td>\n",
       "    </tr>\n",
       "    <tr>\n",
       "      <th>2</th>\n",
       "      <td>-0.801555</td>\n",
       "      <td>-1.627080</td>\n",
       "      <td>2.152815</td>\n",
       "      <td>-0.368019</td>\n",
       "      <td>1.288995</td>\n",
       "      <td>-0.211622</td>\n",
       "      <td>0.292810</td>\n",
       "      <td>-0.722157</td>\n",
       "      <td>1</td>\n",
       "      <td>0</td>\n",
       "      <td>...</td>\n",
       "      <td>0</td>\n",
       "      <td>0</td>\n",
       "      <td>0</td>\n",
       "      <td>0</td>\n",
       "      <td>0</td>\n",
       "      <td>0</td>\n",
       "      <td>0</td>\n",
       "      <td>0</td>\n",
       "      <td>0</td>\n",
       "      <td>NO</td>\n",
       "    </tr>\n",
       "    <tr>\n",
       "      <th>3</th>\n",
       "      <td>-0.801555</td>\n",
       "      <td>0.055741</td>\n",
       "      <td>-0.196289</td>\n",
       "      <td>0.002587</td>\n",
       "      <td>-0.291863</td>\n",
       "      <td>-0.211622</td>\n",
       "      <td>-0.500575</td>\n",
       "      <td>-0.206960</td>\n",
       "      <td>0</td>\n",
       "      <td>1</td>\n",
       "      <td>...</td>\n",
       "      <td>0</td>\n",
       "      <td>0</td>\n",
       "      <td>0</td>\n",
       "      <td>0</td>\n",
       "      <td>0</td>\n",
       "      <td>0</td>\n",
       "      <td>0</td>\n",
       "      <td>0</td>\n",
       "      <td>0</td>\n",
       "      <td>NO</td>\n",
       "    </tr>\n",
       "    <tr>\n",
       "      <th>4</th>\n",
       "      <td>-1.138438</td>\n",
       "      <td>0.412703</td>\n",
       "      <td>-0.783565</td>\n",
       "      <td>-0.985694</td>\n",
       "      <td>-0.291863</td>\n",
       "      <td>-0.211622</td>\n",
       "      <td>-0.500575</td>\n",
       "      <td>-1.237355</td>\n",
       "      <td>0</td>\n",
       "      <td>1</td>\n",
       "      <td>...</td>\n",
       "      <td>0</td>\n",
       "      <td>0</td>\n",
       "      <td>0</td>\n",
       "      <td>0</td>\n",
       "      <td>0</td>\n",
       "      <td>0</td>\n",
       "      <td>0</td>\n",
       "      <td>0</td>\n",
       "      <td>0</td>\n",
       "      <td>NO</td>\n",
       "    </tr>\n",
       "    <tr>\n",
       "      <th>...</th>\n",
       "      <td>...</td>\n",
       "      <td>...</td>\n",
       "      <td>...</td>\n",
       "      <td>...</td>\n",
       "      <td>...</td>\n",
       "      <td>...</td>\n",
       "      <td>...</td>\n",
       "      <td>...</td>\n",
       "      <td>...</td>\n",
       "      <td>...</td>\n",
       "      <td>...</td>\n",
       "      <td>...</td>\n",
       "      <td>...</td>\n",
       "      <td>...</td>\n",
       "      <td>...</td>\n",
       "      <td>...</td>\n",
       "      <td>...</td>\n",
       "      <td>...</td>\n",
       "      <td>...</td>\n",
       "      <td>...</td>\n",
       "      <td>...</td>\n",
       "    </tr>\n",
       "    <tr>\n",
       "      <th>99338</th>\n",
       "      <td>-0.464673</td>\n",
       "      <td>0.412703</td>\n",
       "      <td>-0.783565</td>\n",
       "      <td>0.002587</td>\n",
       "      <td>-0.291863</td>\n",
       "      <td>-0.211622</td>\n",
       "      <td>-0.500575</td>\n",
       "      <td>0.823436</td>\n",
       "      <td>0</td>\n",
       "      <td>1</td>\n",
       "      <td>...</td>\n",
       "      <td>0</td>\n",
       "      <td>0</td>\n",
       "      <td>0</td>\n",
       "      <td>0</td>\n",
       "      <td>0</td>\n",
       "      <td>0</td>\n",
       "      <td>0</td>\n",
       "      <td>0</td>\n",
       "      <td>0</td>\n",
       "      <td>YES</td>\n",
       "    </tr>\n",
       "    <tr>\n",
       "      <th>99339</th>\n",
       "      <td>0.209092</td>\n",
       "      <td>-0.505200</td>\n",
       "      <td>0.978263</td>\n",
       "      <td>0.249657</td>\n",
       "      <td>-0.291863</td>\n",
       "      <td>-0.211622</td>\n",
       "      <td>0.292810</td>\n",
       "      <td>0.823436</td>\n",
       "      <td>1</td>\n",
       "      <td>0</td>\n",
       "      <td>...</td>\n",
       "      <td>0</td>\n",
       "      <td>0</td>\n",
       "      <td>0</td>\n",
       "      <td>0</td>\n",
       "      <td>0</td>\n",
       "      <td>0</td>\n",
       "      <td>0</td>\n",
       "      <td>0</td>\n",
       "      <td>0</td>\n",
       "      <td>NO</td>\n",
       "    </tr>\n",
       "    <tr>\n",
       "      <th>99340</th>\n",
       "      <td>-1.138438</td>\n",
       "      <td>0.514692</td>\n",
       "      <td>-0.783565</td>\n",
       "      <td>-0.862159</td>\n",
       "      <td>0.498566</td>\n",
       "      <td>-0.211622</td>\n",
       "      <td>-0.500575</td>\n",
       "      <td>2.884226</td>\n",
       "      <td>0</td>\n",
       "      <td>1</td>\n",
       "      <td>...</td>\n",
       "      <td>0</td>\n",
       "      <td>0</td>\n",
       "      <td>0</td>\n",
       "      <td>0</td>\n",
       "      <td>0</td>\n",
       "      <td>0</td>\n",
       "      <td>0</td>\n",
       "      <td>0</td>\n",
       "      <td>0</td>\n",
       "      <td>NO</td>\n",
       "    </tr>\n",
       "    <tr>\n",
       "      <th>99341</th>\n",
       "      <td>1.893505</td>\n",
       "      <td>0.106735</td>\n",
       "      <td>0.390987</td>\n",
       "      <td>0.620262</td>\n",
       "      <td>-0.291863</td>\n",
       "      <td>-0.211622</td>\n",
       "      <td>0.292810</td>\n",
       "      <td>0.823436</td>\n",
       "      <td>1</td>\n",
       "      <td>0</td>\n",
       "      <td>...</td>\n",
       "      <td>0</td>\n",
       "      <td>0</td>\n",
       "      <td>0</td>\n",
       "      <td>0</td>\n",
       "      <td>0</td>\n",
       "      <td>0</td>\n",
       "      <td>0</td>\n",
       "      <td>0</td>\n",
       "      <td>0</td>\n",
       "      <td>NO</td>\n",
       "    </tr>\n",
       "    <tr>\n",
       "      <th>99342</th>\n",
       "      <td>0.545975</td>\n",
       "      <td>-1.525091</td>\n",
       "      <td>0.978263</td>\n",
       "      <td>-1.603369</td>\n",
       "      <td>-0.291863</td>\n",
       "      <td>-0.211622</td>\n",
       "      <td>-0.500575</td>\n",
       "      <td>0.823436</td>\n",
       "      <td>0</td>\n",
       "      <td>1</td>\n",
       "      <td>...</td>\n",
       "      <td>0</td>\n",
       "      <td>0</td>\n",
       "      <td>0</td>\n",
       "      <td>0</td>\n",
       "      <td>0</td>\n",
       "      <td>0</td>\n",
       "      <td>0</td>\n",
       "      <td>0</td>\n",
       "      <td>0</td>\n",
       "      <td>NO</td>\n",
       "    </tr>\n",
       "  </tbody>\n",
       "</table>\n",
       "<p>99343 rows × 307 columns</p>\n",
       "</div>"
      ],
      "text/plain": [
       "       time_in_hospital  num_lab_procedures  num_procedures  num_medications  \\\n",
       "0             -1.138438           -0.097243       -0.783565        -1.850439   \n",
       "1             -0.464673            0.820659       -0.783565         0.249657   \n",
       "2             -0.801555           -1.627080        2.152815        -0.368019   \n",
       "3             -0.801555            0.055741       -0.196289         0.002587   \n",
       "4             -1.138438            0.412703       -0.783565        -0.985694   \n",
       "...                 ...                 ...             ...              ...   \n",
       "99338         -0.464673            0.412703       -0.783565         0.002587   \n",
       "99339          0.209092           -0.505200        0.978263         0.249657   \n",
       "99340         -1.138438            0.514692       -0.783565        -0.862159   \n",
       "99341          1.893505            0.106735        0.390987         0.620262   \n",
       "99342          0.545975           -1.525091        0.978263        -1.603369   \n",
       "\n",
       "       number_outpatient  number_emergency  number_inpatient  \\\n",
       "0              -0.291863         -0.211622         -0.500575   \n",
       "1              -0.291863         -0.211622         -0.500575   \n",
       "2               1.288995         -0.211622          0.292810   \n",
       "3              -0.291863         -0.211622         -0.500575   \n",
       "4              -0.291863         -0.211622         -0.500575   \n",
       "...                  ...               ...               ...   \n",
       "99338          -0.291863         -0.211622         -0.500575   \n",
       "99339          -0.291863         -0.211622          0.292810   \n",
       "99340           0.498566         -0.211622         -0.500575   \n",
       "99341          -0.291863         -0.211622          0.292810   \n",
       "99342          -0.291863         -0.211622         -0.500575   \n",
       "\n",
       "       number_diagnoses  gender_Female  gender_Male  ...  \\\n",
       "0             -3.298145              1            0  ...   \n",
       "1              0.823436              1            0  ...   \n",
       "2             -0.722157              1            0  ...   \n",
       "3             -0.206960              0            1  ...   \n",
       "4             -1.237355              0            1  ...   \n",
       "...                 ...            ...          ...  ...   \n",
       "99338          0.823436              0            1  ...   \n",
       "99339          0.823436              1            0  ...   \n",
       "99340          2.884226              0            1  ...   \n",
       "99341          0.823436              1            0  ...   \n",
       "99342          0.823436              0            1  ...   \n",
       "\n",
       "       admission_source_id_9  admission_source_id_10  admission_source_id_11  \\\n",
       "0                          0                       0                       0   \n",
       "1                          0                       0                       0   \n",
       "2                          0                       0                       0   \n",
       "3                          0                       0                       0   \n",
       "4                          0                       0                       0   \n",
       "...                      ...                     ...                     ...   \n",
       "99338                      0                       0                       0   \n",
       "99339                      0                       0                       0   \n",
       "99340                      0                       0                       0   \n",
       "99341                      0                       0                       0   \n",
       "99342                      0                       0                       0   \n",
       "\n",
       "       admission_source_id_13  admission_source_id_14  admission_source_id_17  \\\n",
       "0                           0                       0                       0   \n",
       "1                           0                       0                       0   \n",
       "2                           0                       0                       0   \n",
       "3                           0                       0                       0   \n",
       "4                           0                       0                       0   \n",
       "...                       ...                     ...                     ...   \n",
       "99338                       0                       0                       0   \n",
       "99339                       0                       0                       0   \n",
       "99340                       0                       0                       0   \n",
       "99341                       0                       0                       0   \n",
       "99342                       0                       0                       0   \n",
       "\n",
       "       admission_source_id_20  admission_source_id_22  admission_source_id_25  \\\n",
       "0                           0                       0                       0   \n",
       "1                           0                       0                       0   \n",
       "2                           0                       0                       0   \n",
       "3                           0                       0                       0   \n",
       "4                           0                       0                       0   \n",
       "...                       ...                     ...                     ...   \n",
       "99338                       0                       0                       0   \n",
       "99339                       0                       0                       0   \n",
       "99340                       0                       0                       0   \n",
       "99341                       0                       0                       0   \n",
       "99342                       0                       0                       0   \n",
       "\n",
       "       Target  \n",
       "0          NO  \n",
       "1         YES  \n",
       "2          NO  \n",
       "3          NO  \n",
       "4          NO  \n",
       "...       ...  \n",
       "99338     YES  \n",
       "99339      NO  \n",
       "99340      NO  \n",
       "99341      NO  \n",
       "99342      NO  \n",
       "\n",
       "[99343 rows x 307 columns]"
      ]
     },
     "execution_count": 66,
     "metadata": {},
     "output_type": "execute_result"
    }
   ],
   "source": [
    "df"
   ]
  },
  {
   "cell_type": "code",
   "execution_count": null,
   "id": "numerical-integer",
   "metadata": {},
   "outputs": [],
   "source": [
    "train,test,target_train,target_test=train_test_split(df.drop(\"Target\",axis=1),df.Target,test_size=0.33,random_state=42)"
   ]
  },
  {
   "cell_type": "code",
   "execution_count": 67,
   "id": "second-official",
   "metadata": {},
   "outputs": [
    {
     "name": "stderr",
     "output_type": "stream",
     "text": [
      "G:\\Users\\Othma\\anaconda3\\lib\\site-packages\\xgboost\\sklearn.py:1224: UserWarning: The use of label encoder in XGBClassifier is deprecated and will be removed in a future release. To remove this warning, do the following: 1) Pass option use_label_encoder=False when constructing XGBClassifier object; and 2) Encode your labels (y) as integers starting with 0, i.e. 0, 1, 2, ..., [num_class - 1].\n",
      "  warnings.warn(label_encoder_deprecation_msg, UserWarning)\n"
     ]
    },
    {
     "name": "stdout",
     "output_type": "stream",
     "text": [
      "[20:15:12] WARNING: C:/Users/Administrator/workspace/xgboost-win64_release_1.5.1/src/learner.cc:1115: Starting in XGBoost 1.3.0, the default evaluation metric used with the objective 'binary:logistic' was changed from 'error' to 'logloss'. Explicitly set eval_metric if you'd like to restore the old behavior.\n",
      "[[12353  4879]\n",
      " [ 6998  8554]]\n",
      "0.6377196193265008\n"
     ]
    }
   ],
   "source": [
    "xgb_model=xgb.XGBClassifier(objective=\"binary:logistic\",random_state=42)\n",
    "xgb_model.fit(train,target_train)\n",
    "pred=xgb_model.predict(test)\n",
    "print(confusion_matrix(target_test,pred))\n",
    "print(accuracy_score(target_test,pred))"
   ]
  },
  {
   "cell_type": "markdown",
   "id": "widespread-right",
   "metadata": {},
   "source": [
    "# Trying RandomizedSearchCV next"
   ]
  },
  {
   "cell_type": "code",
   "execution_count": 6,
   "id": "permanent-basic",
   "metadata": {},
   "outputs": [],
   "source": [
    "parameters = {\n",
    "    'max_depth': range (2, 10, 1),\n",
    "    'n_estimators': range(60, 220, 40),\n",
    "    'learning_rate': [0.1, 0.01, 0.05]\n",
    "}"
   ]
  },
  {
   "cell_type": "code",
   "execution_count": 7,
   "id": "executed-taste",
   "metadata": {
    "collapsed": true
   },
   "outputs": [
    {
     "ename": "NameError",
     "evalue": "name 'xgb_model' is not defined",
     "output_type": "error",
     "traceback": [
      "\u001b[1;31m---------------------------------------------------------------------------\u001b[0m",
      "\u001b[1;31mNameError\u001b[0m                                 Traceback (most recent call last)",
      "\u001b[1;32m<ipython-input-7-15edc19ba5ce>\u001b[0m in \u001b[0;36m<module>\u001b[1;34m\u001b[0m\n\u001b[1;32m----> 1\u001b[1;33m \u001b[0mclf\u001b[0m\u001b[1;33m=\u001b[0m\u001b[0mRandomizedSearchCV\u001b[0m\u001b[1;33m(\u001b[0m\u001b[0mxgb_model\u001b[0m\u001b[1;33m,\u001b[0m\u001b[0mparam_distributions\u001b[0m\u001b[1;33m=\u001b[0m\u001b[0mparameters\u001b[0m\u001b[1;33m,\u001b[0m\u001b[0mrandom_state\u001b[0m\u001b[1;33m=\u001b[0m\u001b[1;36m42\u001b[0m\u001b[1;33m,\u001b[0m\u001b[0mn_jobs\u001b[0m\u001b[1;33m=\u001b[0m\u001b[1;33m-\u001b[0m\u001b[1;36m1\u001b[0m\u001b[1;33m,\u001b[0m\u001b[0mcv\u001b[0m\u001b[1;33m=\u001b[0m\u001b[1;36m10\u001b[0m\u001b[1;33m)\u001b[0m\u001b[1;33m\u001b[0m\u001b[1;33m\u001b[0m\u001b[0m\n\u001b[0m\u001b[0;32m      2\u001b[0m \u001b[1;33m\u001b[0m\u001b[0m\n\u001b[0;32m      3\u001b[0m \u001b[0msearch\u001b[0m\u001b[1;33m=\u001b[0m\u001b[0mclf\u001b[0m\u001b[1;33m.\u001b[0m\u001b[0mfit\u001b[0m\u001b[1;33m(\u001b[0m\u001b[0mtrain\u001b[0m\u001b[1;33m,\u001b[0m\u001b[0mtarget_train\u001b[0m\u001b[1;33m)\u001b[0m\u001b[1;33m\u001b[0m\u001b[1;33m\u001b[0m\u001b[0m\n\u001b[0;32m      4\u001b[0m \u001b[0msearch\u001b[0m\u001b[1;33m.\u001b[0m\u001b[0mbest_params_\u001b[0m\u001b[1;33m\u001b[0m\u001b[1;33m\u001b[0m\u001b[0m\n",
      "\u001b[1;31mNameError\u001b[0m: name 'xgb_model' is not defined"
     ]
    }
   ],
   "source": [
    "clf=RandomizedSearchCV(xgb_model,param_distributions=parameters,random_state=42,n_jobs=-1,cv=10)\n",
    "\n",
    "search=clf.fit(train,target_train)\n",
    "search.best_params_"
   ]
  },
  {
   "cell_type": "code",
   "execution_count": 20,
   "id": "passive-graphics",
   "metadata": {},
   "outputs": [
    {
     "data": {
      "text/plain": [
       "{'n_estimators': 140, 'max_depth': 9, 'learning_rate': 0.05}"
      ]
     },
     "execution_count": 20,
     "metadata": {},
     "output_type": "execute_result"
    }
   ],
   "source": [
    "search.best_params_"
   ]
  },
  {
   "cell_type": "markdown",
   "id": "varied-mandate",
   "metadata": {},
   "source": [
    "# best Learning rate is 0.05, since it's the last value of the list we might ant to try other values "
   ]
  },
  {
   "cell_type": "code",
   "execution_count": 21,
   "id": "numerous-singapore",
   "metadata": {},
   "outputs": [],
   "source": [
    "parameters = {\n",
    "    'max_depth': range (2, 10, 1),\n",
    "    'n_estimators': range(60, 220, 40),\n",
    "    'learning_rate': [0.1, 0.01, 0.05, 0.02, 0.03, 0.04]\n",
    "}"
   ]
  },
  {
   "cell_type": "code",
   "execution_count": 22,
   "id": "voluntary-taiwan",
   "metadata": {},
   "outputs": [
    {
     "name": "stderr",
     "output_type": "stream",
     "text": [
      "G:\\Users\\Othma\\anaconda3\\lib\\site-packages\\xgboost\\sklearn.py:1224: UserWarning: The use of label encoder in XGBClassifier is deprecated and will be removed in a future release. To remove this warning, do the following: 1) Pass option use_label_encoder=False when constructing XGBClassifier object; and 2) Encode your labels (y) as integers starting with 0, i.e. 0, 1, 2, ..., [num_class - 1].\n",
      "  warnings.warn(label_encoder_deprecation_msg, UserWarning)\n"
     ]
    },
    {
     "name": "stdout",
     "output_type": "stream",
     "text": [
      "[09:52:11] WARNING: C:/Users/Administrator/workspace/xgboost-win64_release_1.5.1/src/learner.cc:1115: Starting in XGBoost 1.3.0, the default evaluation metric used with the objective 'binary:logistic' was changed from 'error' to 'logloss'. Explicitly set eval_metric if you'd like to restore the old behavior.\n"
     ]
    },
    {
     "data": {
      "text/plain": [
       "{'n_estimators': 140, 'max_depth': 6, 'learning_rate': 0.1}"
      ]
     },
     "execution_count": 22,
     "metadata": {},
     "output_type": "execute_result"
    }
   ],
   "source": [
    "clf=RandomizedSearchCV(xgb_model,param_distributions=parameters,random_state=42,n_jobs=-1,cv=10)\n",
    "\n",
    "search=clf.fit(train,target_train)\n",
    "search.best_params_"
   ]
  },
  {
   "cell_type": "markdown",
   "id": "blessed-alaska",
   "metadata": {},
   "source": [
    "# Best params overall : n_estimators: 140 | max_depth: 6 | learning_rate: 0.1"
   ]
  },
  {
   "cell_type": "code",
   "execution_count": 15,
   "id": "prime-manual",
   "metadata": {},
   "outputs": [
    {
     "name": "stderr",
     "output_type": "stream",
     "text": [
      "G:\\Users\\Othma\\anaconda3\\lib\\site-packages\\xgboost\\sklearn.py:1224: UserWarning: The use of label encoder in XGBClassifier is deprecated and will be removed in a future release. To remove this warning, do the following: 1) Pass option use_label_encoder=False when constructing XGBClassifier object; and 2) Encode your labels (y) as integers starting with 0, i.e. 0, 1, 2, ..., [num_class - 1].\n",
      "  warnings.warn(label_encoder_deprecation_msg, UserWarning)\n"
     ]
    },
    {
     "name": "stdout",
     "output_type": "stream",
     "text": [
      "[[12634  4598]\n",
      " [ 7273  8279]]\n",
      "0.637902635431918\n"
     ]
    }
   ],
   "source": [
    "xgb_model=xgb.XGBClassifier(objective=\"binary:logistic\",random_state=42,n_estimators=140,max_depth=6,learning_rate=0.1,verbosity=0)\n",
    "xgb_model.fit(train,target_train)\n",
    "pred=xgb_model.predict(test)\n",
    "print(confusion_matrix(target_test,pred))\n",
    "print(accuracy_score(target_test,pred))"
   ]
  },
  {
   "cell_type": "markdown",
   "id": "conditional-evans",
   "metadata": {},
   "source": [
    "# Sadly the accuracy barely gets better"
   ]
  },
  {
   "cell_type": "code",
   "execution_count": 16,
   "id": "controlling-cherry",
   "metadata": {},
   "outputs": [],
   "source": [
    "import seaborn as sns\n"
   ]
  },
  {
   "cell_type": "code",
   "execution_count": 21,
   "id": "passing-pavilion",
   "metadata": {},
   "outputs": [
    {
     "data": {
      "text/plain": [
       "<AxesSubplot:xlabel='col_0', ylabel='Target'>"
      ]
     },
     "execution_count": 21,
     "metadata": {},
     "output_type": "execute_result"
    },
    {
     "data": {
      "image/png": "[encoded data removed]",
      "text/plain": [
       "<Figure size 720x576 with 2 Axes>"
      ]
     },
     "metadata": {},
     "output_type": "display_data"
    }
   ],
   "source": [
    "sns.set_style(\"whitegrid\")\n",
    "\n",
    "cf_matrix=pd.crosstab(target_test,pred)\n",
    "\n",
    "fig, ax = plt.subplots(figsize=(10,8))\n",
    "sns.heatmap(cf_matrix,annot=True,ax=ax,fmt='g',cmap=\"mako\")"
   ]
  },
  {
   "cell_type": "markdown",
   "id": "affiliated-guard",
   "metadata": {},
   "source": [
    "# \"Since we are primarily interested in factors that lead to early readmission, we defined the readmission attribute (outcome) as having two values: “readmitted,” if the patient was readmitted within 30 days of discharge or “otherwise” \""
   ]
  },
  {
   "cell_type": "code",
   "execution_count": 74,
   "id": "great-happening",
   "metadata": {},
   "outputs": [],
   "source": [
    "df=pd.read_csv(\"Preprocessed06_12.csv\")"
   ]
  },
  {
   "cell_type": "code",
   "execution_count": 75,
   "id": "another-fitting",
   "metadata": {},
   "outputs": [
    {
     "data": {
      "text/plain": [
       "array(['Otherwise', 'readmitted'], dtype=object)"
      ]
     },
     "execution_count": 75,
     "metadata": {},
     "output_type": "execute_result"
    }
   ],
   "source": [
    "#df.loc[df[\"Target\"]==\"<30\",\"Target\"]=\"readmitted\"\n",
    "#df.loc[df[\"Target\"]==\">30\",\"Target\"]=\"Otherwise\"\n",
    "#df.loc[df[\"Target\"]==\"NO\",\"Target\"]=\"Otherwise\"\n",
    "\n",
    "df.Target.unique()"
   ]
  },
  {
   "cell_type": "code",
   "execution_count": 81,
   "id": "desperate-sally",
   "metadata": {},
   "outputs": [],
   "source": [
    "train,test,target_train,target_test=train_test_split(df.drop(\"Target\",axis=1),df.Target,test_size=0.33,random_state=42)"
   ]
  },
  {
   "cell_type": "code",
   "execution_count": 77,
   "id": "transsexual-knowing",
   "metadata": {},
   "outputs": [
    {
     "name": "stderr",
     "output_type": "stream",
     "text": [
      "G:\\Users\\Othma\\anaconda3\\lib\\site-packages\\xgboost\\sklearn.py:1224: UserWarning:\n",
      "\n",
      "The use of label encoder in XGBClassifier is deprecated and will be removed in a future release. To remove this warning, do the following: 1) Pass option use_label_encoder=False when constructing XGBClassifier object; and 2) Encode your labels (y) as integers starting with 0, i.e. 0, 1, 2, ..., [num_class - 1].\n",
      "\n"
     ]
    }
   ],
   "source": [
    "xgb_model=xgb.XGBClassifier(objective=\"binary:logistic\",random_state=42)\n",
    "xgb_model.fit(train,target_train)\n",
    "pred=xgb_model.predict(test)\n"
   ]
  },
  {
   "cell_type": "code",
   "execution_count": 78,
   "id": "constitutional-loading",
   "metadata": {},
   "outputs": [
    {
     "name": "stdout",
     "output_type": "stream",
     "text": [
      "[[20931    46]\n",
      " [ 2081    34]]\n",
      "0.9078901784167677\n"
     ]
    }
   ],
   "source": [
    "print(confusion_matrix(target_test,pred))\n",
    "print(accuracy_score(target_test,pred))"
   ]
  },
  {
   "cell_type": "code",
   "execution_count": 8,
   "id": "hidden-leather",
   "metadata": {},
   "outputs": [
    {
     "name": "stderr",
     "output_type": "stream",
     "text": [
      "G:\\Users\\Othma\\anaconda3\\lib\\site-packages\\xgboost\\sklearn.py:1224: UserWarning: The use of label encoder in XGBClassifier is deprecated and will be removed in a future release. To remove this warning, do the following: 1) Pass option use_label_encoder=False when constructing XGBClassifier object; and 2) Encode your labels (y) as integers starting with 0, i.e. 0, 1, 2, ..., [num_class - 1].\n",
      "  warnings.warn(label_encoder_deprecation_msg, UserWarning)\n"
     ]
    },
    {
     "name": "stdout",
     "output_type": "stream",
     "text": [
      "[18:13:06] WARNING: C:/Users/Administrator/workspace/xgboost-win64_release_1.5.1/src/learner.cc:1115: Starting in XGBoost 1.3.0, the default evaluation metric used with the objective 'binary:logistic' was changed from 'error' to 'logloss'. Explicitly set eval_metric if you'd like to restore the old behavior.\n"
     ]
    },
    {
     "data": {
      "text/plain": [
       "{'n_estimators': 140, 'max_depth': 6, 'learning_rate': 0.1}"
      ]
     },
     "execution_count": 8,
     "metadata": {},
     "output_type": "execute_result"
    }
   ],
   "source": [
    "parameters = {\n",
    "    'max_depth': range (2, 10, 1),\n",
    "    'n_estimators': range(60, 220, 40),\n",
    "    'learning_rate': [0.1, 0.01, 0.05, 0.02, 0.03, 0.04]\n",
    "}\n",
    "\n",
    "clf=RandomizedSearchCV(xgb_model,param_distributions=parameters,random_state=42,n_jobs=-1,cv=10)\n",
    "\n",
    "search=clf.fit(train,target_train)\n",
    "search.best_params_"
   ]
  },
  {
   "cell_type": "code",
   "execution_count": 79,
   "id": "smooth-wagon",
   "metadata": {},
   "outputs": [
    {
     "name": "stderr",
     "output_type": "stream",
     "text": [
      "G:\\Users\\Othma\\anaconda3\\lib\\site-packages\\xgboost\\sklearn.py:1224: UserWarning:\n",
      "\n",
      "The use of label encoder in XGBClassifier is deprecated and will be removed in a future release. To remove this warning, do the following: 1) Pass option use_label_encoder=False when constructing XGBClassifier object; and 2) Encode your labels (y) as integers starting with 0, i.e. 0, 1, 2, ..., [num_class - 1].\n",
      "\n"
     ]
    },
    {
     "name": "stdout",
     "output_type": "stream",
     "text": [
      "[[20967    10]\n",
      " [ 2099    16]]\n",
      "0.908669669149489\n"
     ]
    }
   ],
   "source": [
    "xgb_model=xgb.XGBClassifier(objective=\"binary:logistic\",random_state=42,n_estimators=140,max_depth=6,learning_rate=0.1,verbosity=0)\n",
    "xgb_model.fit(train,target_train)\n",
    "pred=xgb_model.predict(test)\n",
    "print(confusion_matrix(target_test,pred))\n",
    "print(accuracy_score(target_test,pred))"
   ]
  },
  {
   "cell_type": "markdown",
   "id": "secondary-explosion",
   "metadata": {},
   "source": [
    "# Best classifier so far "
   ]
  },
  {
   "cell_type": "code",
   "execution_count": 87,
   "id": "sixth-signal",
   "metadata": {},
   "outputs": [
    {
     "data": {
      "text/plain": [
       "<AxesSubplot:xlabel='col_0', ylabel='Target'>"
      ]
     },
     "execution_count": 87,
     "metadata": {},
     "output_type": "execute_result"
    },
    {
     "data": {
      "image/png": "[encoded data removed]",
      "text/plain": [
       "<Figure size 720x576 with 2 Axes>"
      ]
     },
     "metadata": {},
     "output_type": "display_data"
    }
   ],
   "source": [
    "import seaborn as sns\n",
    "sns.set_style(\"whitegrid\")\n",
    "\n",
    "cf_matrix=pd.crosstab(target_test,pred)\n",
    "\n",
    "fig, ax = plt.subplots(figsize=(10,8))\n",
    "sns.heatmap(cf_matrix,annot=True,ax=ax,fmt='g',cmap=\"mako\")"
   ]
  },
  {
   "cell_type": "markdown",
   "id": "running-diploma",
   "metadata": {},
   "source": [
    "# SVM test  !Warning! very long training time"
   ]
  },
  {
   "cell_type": "code",
   "execution_count": 10,
   "id": "endangered-delight",
   "metadata": {},
   "outputs": [],
   "source": [
    "import sklearn"
   ]
  },
  {
   "cell_type": "code",
   "execution_count": 24,
   "id": "mighty-disease",
   "metadata": {},
   "outputs": [
    {
     "data": {
      "text/plain": [
       "SVC(kernel='poly')"
      ]
     },
     "execution_count": 24,
     "metadata": {},
     "output_type": "execute_result"
    }
   ],
   "source": [
    "clf2=svm.SVC(kernel=\"poly\")\n",
    "clf2.fit(train,target_train)"
   ]
  },
  {
   "cell_type": "code",
   "execution_count": 25,
   "id": "distributed-christian",
   "metadata": {},
   "outputs": [],
   "source": [
    "preds=clf2.predict(test)"
   ]
  },
  {
   "cell_type": "code",
   "execution_count": 26,
   "id": "verbal-script",
   "metadata": {},
   "outputs": [
    {
     "name": "stdout",
     "output_type": "stream",
     "text": [
      "0.8846388482186432\n"
     ]
    }
   ],
   "source": [
    "print(accuracy_score(target_test,preds))"
   ]
  },
  {
   "cell_type": "markdown",
   "id": "imposed-organization",
   "metadata": {},
   "source": [
    "needs to be optimized"
   ]
  },
  {
   "cell_type": "markdown",
   "id": "mechanical-discovery",
   "metadata": {},
   "source": [
    "# Weight attribute was considered to be too sparse and it was not included in further analysis"
   ]
  },
  {
   "cell_type": "code",
   "execution_count": 52,
   "id": "herbal-device",
   "metadata": {},
   "outputs": [],
   "source": [
    "#df2=df.drop([\"payer_code_?\",\"payer_code_BC\",\"payer_code_CH\",\"payer_code_CM\",\"payer_code_CP\",\"payer_code_DM\",\"payer_code_FR\",\"payer_code_HM\",\"payer_code_MC\",\"payer_code_MD\",\"payer_code_MP\",\"payer_code_OG\",\"payer_code_OT\",\"payer_code_PO\",\"payer_code_SI\",\"payer_code_SP\",\"payer_code_UN\",\"payer_code_WC\"],axis=1)\n"
   ]
  },
  {
   "cell_type": "code",
   "execution_count": 53,
   "id": "changing-utilization",
   "metadata": {},
   "outputs": [],
   "source": [
    "#df2.drop([\"weight_Over200\",\"weight_?\",\"weight_(0-25)\",\"weight_(100-125)\",\"weight_(125-150)\",\"weight_(150-175)\",\"weight_(175-200)\",\"weight_(25-50)\",\"weight_(50-75)\",\"weight_(75-100)\"],inplace=True,axis=1)"
   ]
  },
  {
   "cell_type": "code",
   "execution_count": 35,
   "id": "interpreted-power",
   "metadata": {},
   "outputs": [
    {
     "name": "stdout",
     "output_type": "stream",
     "text": [
      "0.8849438750610054\n"
     ]
    }
   ],
   "source": [
    "#train,test,target_train,target_test=train_test_split(df2.drop(\"Target\",axis=1),df2.Target,test_size=0.33,random_state=42)\n",
    "\n",
    "#xgb_model.fit(train,target_train)\n",
    "#preds=xgb_model.predict(test)\n",
    "#print(accuracy_score(target_test,preds))"
   ]
  },
  {
   "cell_type": "code",
   "execution_count": 83,
   "id": "julian-rabbit",
   "metadata": {},
   "outputs": [],
   "source": [
    "contrib=pd.DataFrame(xgb_model.feature_importances_)\n",
    "\n",
    "contrib[\"names\"]=df.drop(\"Target\",axis=1).columns\n",
    "\n",
    "#contrib.set_index('names').T"
   ]
  },
  {
   "cell_type": "code",
   "execution_count": 84,
   "id": "honey-boutique",
   "metadata": {},
   "outputs": [
    {
     "data": {
      "text/html": [
       "<div>\n",
       "<style scoped>\n",
       "    .dataframe tbody tr th:only-of-type {\n",
       "        vertical-align: middle;\n",
       "    }\n",
       "\n",
       "    .dataframe tbody tr th {\n",
       "        vertical-align: top;\n",
       "    }\n",
       "\n",
       "    .dataframe thead th {\n",
       "        text-align: right;\n",
       "    }\n",
       "</style>\n",
       "<table border=\"1\" class=\"dataframe\">\n",
       "  <thead>\n",
       "    <tr style=\"text-align: right;\">\n",
       "      <th></th>\n",
       "      <th>0</th>\n",
       "      <th>names</th>\n",
       "    </tr>\n",
       "  </thead>\n",
       "  <tbody>\n",
       "    <tr>\n",
       "      <th>235</th>\n",
       "      <td>0.046390</td>\n",
       "      <td>discharge_disposition_id_1</td>\n",
       "    </tr>\n",
       "    <tr>\n",
       "      <th>250</th>\n",
       "      <td>0.022437</td>\n",
       "      <td>discharge_disposition_id_22</td>\n",
       "    </tr>\n",
       "    <tr>\n",
       "      <th>6</th>\n",
       "      <td>0.015613</td>\n",
       "      <td>number_inpatient</td>\n",
       "    </tr>\n",
       "    <tr>\n",
       "      <th>106</th>\n",
       "      <td>0.014797</td>\n",
       "      <td>diag_1_Mental Disorders</td>\n",
       "    </tr>\n",
       "    <tr>\n",
       "      <th>236</th>\n",
       "      <td>0.012982</td>\n",
       "      <td>discharge_disposition_id_2</td>\n",
       "    </tr>\n",
       "    <tr>\n",
       "      <th>...</th>\n",
       "      <td>...</td>\n",
       "      <td>...</td>\n",
       "    </tr>\n",
       "    <tr>\n",
       "      <th>161</th>\n",
       "      <td>0.000000</td>\n",
       "      <td>repaglinide_Down</td>\n",
       "    </tr>\n",
       "    <tr>\n",
       "      <th>32</th>\n",
       "      <td>0.000000</td>\n",
       "      <td>medical_specialty_Endocrinology-Metabolism</td>\n",
       "    </tr>\n",
       "    <tr>\n",
       "      <th>38</th>\n",
       "      <td>0.000000</td>\n",
       "      <td>medical_specialty_Hospitalist</td>\n",
       "    </tr>\n",
       "    <tr>\n",
       "      <th>39</th>\n",
       "      <td>0.000000</td>\n",
       "      <td>medical_specialty_InfectiousDiseases</td>\n",
       "    </tr>\n",
       "    <tr>\n",
       "      <th>272</th>\n",
       "      <td>0.000000</td>\n",
       "      <td>admission_source_id_25</td>\n",
       "    </tr>\n",
       "  </tbody>\n",
       "</table>\n",
       "<p>273 rows × 2 columns</p>\n",
       "</div>"
      ],
      "text/plain": [
       "            0                                       names\n",
       "235  0.046390                  discharge_disposition_id_1\n",
       "250  0.022437                 discharge_disposition_id_22\n",
       "6    0.015613                            number_inpatient\n",
       "106  0.014797                     diag_1_Mental Disorders\n",
       "236  0.012982                  discharge_disposition_id_2\n",
       "..        ...                                         ...\n",
       "161  0.000000                            repaglinide_Down\n",
       "32   0.000000  medical_specialty_Endocrinology-Metabolism\n",
       "38   0.000000               medical_specialty_Hospitalist\n",
       "39   0.000000        medical_specialty_InfectiousDiseases\n",
       "272  0.000000                      admission_source_id_25\n",
       "\n",
       "[273 rows x 2 columns]"
      ]
     },
     "execution_count": 84,
     "metadata": {},
     "output_type": "execute_result"
    }
   ],
   "source": [
    "contrib.sort_values(by=[0],ascending=False)"
   ]
  },
  {
   "cell_type": "code",
   "execution_count": 85,
   "id": "pediatric-colorado",
   "metadata": {},
   "outputs": [
    {
     "data": {
      "application/vnd.plotly.v1+json": {
       "config": {
        "plotlyServerURL": "https://plot.ly"
       },
       "data": [
        {
         "orientation": "h",
         "type": "bar",
         "x": [
          0.005921314004808664,
          0.004814860876649618,
          0.005118655040860176,
          0.00510324165225029,
          0.004739701282233,
          0.00563663337379694,
          0.01561329048126936,
          0.005625753663480282,
          0.00495119160041213,
          0.004676581360399723,
          0,
          0,
          0,
          0.005582311190664768,
          0.004210768733173609,
          0.004345185123383999,
          0.007182644680142403,
          0.004917688202112913,
          0.004902967251837254,
          0.0057478309608995914,
          0.008350973948836327,
          0.004722424317151308,
          0,
          0,
          0,
          0.00531088188290596,
          0,
          0,
          0,
          0,
          0.005093768239021301,
          0.0027776227798312902,
          0,
          0.0044782948680222034,
          0.006022876128554344,
          0.0015135834692046046,
          0.00487938616424799,
          0.006124218925833702,
          0,
          0,
          0.0058088055811822414,
          0.005249423906207085,
          0,
          0,
          0.0011269996175542474,
          0,
          0.0026845703832805157,
          0.005968420300632715,
          0.0012234016321599483,
          0.0041115665808320045,
          0.005856595933437347,
          0,
          0.002759578637778759,
          0,
          0,
          0.0029533999040722847,
          0.0018640796188265085,
          0,
          0.003270909423008561,
          0,
          0,
          0,
          0,
          0.0037128201220184565,
          0,
          0.001541586359962821,
          0,
          0.006709594279527664,
          0,
          0,
          0,
          0.006818181369453669,
          0.006137645337730646,
          0,
          0,
          0,
          0,
          0,
          0,
          0,
          0,
          0,
          0.006394390482455492,
          0,
          0.004312282893806696,
          0,
          0,
          0,
          0.00262899580411613,
          0.0041688173078000546,
          0,
          0.007383351214230061,
          0,
          0.007796384394168854,
          0,
          0.007975021377205849,
          0.005344584118574858,
          0.004963977728039026,
          0.005798014812171459,
          0.010634491220116615,
          0.003740984946489334,
          0.004988403525203466,
          0.0047157020308077335,
          0.006247158627957106,
          0.005545913707464933,
          0.005365950521081686,
          0.014796987175941467,
          0.006708481349050999,
          0,
          0.008741569705307484,
          0.006521070841699839,
          0,
          0.0013031542766839266,
          0.0015299436636269093,
          0.005870457738637924,
          0.005882469937205315,
          0.004596316255629063,
          0.004201072268188,
          0.00524555891752243,
          0.00789391715079546,
          0.0037424045149236917,
          0.007157463580369949,
          0.004963405895978212,
          0.006275352090597153,
          0.0063555799424648285,
          0.005937653128057718,
          0.006574805825948715,
          0.004683561157435179,
          0.007012678310275078,
          0.0060692052356898785,
          0.002903260989114642,
          0.004595168400555849,
          0,
          0.005558623932301998,
          0.004313604440540075,
          0.003821756923571229,
          0.009533057920634747,
          0.005214424803853035,
          0.006932979915291071,
          0.006959980819374323,
          0.0031154234893620014,
          0.004241886083036661,
          0.004784486256539822,
          0.00590131152421236,
          0.006398339755833149,
          0.005586329847574234,
          0.0060330950655043125,
          0.005909493658691645,
          0.00575911533087492,
          0.005611947271972895,
          0.006240877788513899,
          0.004798800218850374,
          0.006827672012150288,
          0.005784221924841404,
          0.004574972670525312,
          0.004446264356374741,
          0.005516331177204847,
          0.006251671817153692,
          0.00429694214835763,
          0.00437520258128643,
          0.003569936379790306,
          0,
          0.00801391527056694,
          0.010005708783864975,
          0.009886621497571468,
          0,
          0,
          0,
          0,
          0,
          0.00212488928809762,
          0,
          0,
          0.002595249330624938,
          0.006246935110539198,
          0.004507430363446474,
          0.0049332971684634686,
          0,
          0,
          0.005158035550266504,
          0.0045340596698224545,
          0.004200493451207876,
          0,
          0.004646086599677801,
          0.00880705751478672,
          0.00550617603585124,
          0,
          0,
          0,
          0.00202545034699142,
          0.00604616105556488,
          0.006232768762856722,
          0.006871411576867104,
          0.002418485702946782,
          0.005937071051448584,
          0.006414533127099276,
          0,
          0,
          0.0018664614763110876,
          0,
          0,
          0,
          0,
          0,
          0,
          0,
          0.001355474698357284,
          0,
          0.005607967264950275,
          0.00507706543430686,
          0.00522145489230752,
          0.004586058668792248,
          0,
          0.0047587743028998375,
          0,
          0,
          0,
          0,
          0,
          0,
          0,
          0,
          0,
          0.00395195372402668,
          0,
          0.006913861259818077,
          0,
          0.005034670699387789,
          0.005795933771878481,
          0.0055083949118852615,
          0,
          0.008130000904202461,
          0.0072097377851605415,
          0.0013131771702319384,
          0.0032242515590041876,
          0.04638952761888504,
          0.01298199687153101,
          0.006330376956611872,
          0.007540405262261629,
          0.009775676764547825,
          0.00769770098850131,
          0.005766331218183041,
          0.004171529784798622,
          0,
          0,
          0,
          0.005702688358724117,
          0,
          0,
          0.006306874565780163,
          0.022437473759055138,
          0.0060065980069339275,
          0,
          0.006664607208222151,
          0,
          0.008662329986691475,
          0.004688664805144072,
          0.003248984459787607,
          0.0064608147367835045,
          0.0076456014066934586,
          0.0033849370665848255,
          0.0054189409129321575,
          0.00527186319231987,
          0,
          0,
          0,
          0,
          0,
          0,
          0.004947924055159092,
          0.0037441879976540804,
          0,
          0
         ],
         "y": [
          "time_in_hospital",
          "num_lab_procedures",
          "num_procedures",
          "num_medications",
          "number_outpatient",
          "number_emergency",
          "number_inpatient",
          "number_diagnoses",
          "gender_Female",
          "gender_Male",
          "gender_Unknown/Invalid",
          "age_(0-10)",
          "age_(10-20)",
          "age_(20-30)",
          "age_(30-40)",
          "age_(40-50)",
          "age_(50-60)",
          "age_(60-70)",
          "age_(70-80)",
          "age_(80-90)",
          "age_(90-100)",
          "medical_specialty_?",
          "medical_specialty_AllergyandImmunology",
          "medical_specialty_Anesthesiology",
          "medical_specialty_Anesthesiology-Pediatric",
          "medical_specialty_Cardiology",
          "medical_specialty_Cardiology-Pediatric",
          "medical_specialty_DCPTEAM",
          "medical_specialty_Dentistry",
          "medical_specialty_Dermatology",
          "medical_specialty_Emergency/Trauma",
          "medical_specialty_Endocrinology",
          "medical_specialty_Endocrinology-Metabolism",
          "medical_specialty_Family/GeneralPractice",
          "medical_specialty_Gastroenterology",
          "medical_specialty_Gynecology",
          "medical_specialty_Hematology",
          "medical_specialty_Hematology/Oncology",
          "medical_specialty_Hospitalist",
          "medical_specialty_InfectiousDiseases",
          "medical_specialty_InternalMedicine",
          "medical_specialty_Nephrology",
          "medical_specialty_Neurology",
          "medical_specialty_Neurophysiology",
          "medical_specialty_Obsterics&Gynecology-GynecologicOnco",
          "medical_specialty_Obstetrics",
          "medical_specialty_ObstetricsandGynecology",
          "medical_specialty_Oncology",
          "medical_specialty_Ophthalmology",
          "medical_specialty_Orthopedics",
          "medical_specialty_Orthopedics-Reconstructive",
          "medical_specialty_Osteopath",
          "medical_specialty_Otolaryngology",
          "medical_specialty_OutreachServices",
          "medical_specialty_Pathology",
          "medical_specialty_Pediatrics",
          "medical_specialty_Pediatrics-CriticalCare",
          "medical_specialty_Pediatrics-EmergencyMedicine",
          "medical_specialty_Pediatrics-Endocrinology",
          "medical_specialty_Pediatrics-Hematology-Oncology",
          "medical_specialty_Pediatrics-Neurology",
          "medical_specialty_Pediatrics-Pulmonology",
          "medical_specialty_Perinatology",
          "medical_specialty_PhysicalMedicineandRehabilitation",
          "medical_specialty_PhysicianNotFound",
          "medical_specialty_Podiatry",
          "medical_specialty_Proctology",
          "medical_specialty_Psychiatry",
          "medical_specialty_Psychiatry-Addictive",
          "medical_specialty_Psychiatry-Child/Adolescent",
          "medical_specialty_Psychology",
          "medical_specialty_Pulmonology",
          "medical_specialty_Radiologist",
          "medical_specialty_Radiology",
          "medical_specialty_Resident",
          "medical_specialty_Rheumatology",
          "medical_specialty_Speech",
          "medical_specialty_SportsMedicine",
          "medical_specialty_Surgeon",
          "medical_specialty_Surgery-Cardiovascular",
          "medical_specialty_Surgery-Cardiovascular/Thoracic",
          "medical_specialty_Surgery-Colon&Rectal",
          "medical_specialty_Surgery-General",
          "medical_specialty_Surgery-Maxillofacial",
          "medical_specialty_Surgery-Neuro",
          "medical_specialty_Surgery-Pediatric",
          "medical_specialty_Surgery-Plastic",
          "medical_specialty_Surgery-PlasticwithinHeadandNeck",
          "medical_specialty_Surgery-Thoracic",
          "medical_specialty_Surgery-Vascular",
          "medical_specialty_SurgicalSpecialty",
          "medical_specialty_Urology",
          "diag_1_?",
          "diag_1_Complications of Pregnancy, Childbirth, and the Puerperium",
          "diag_1_Congenital Anomalies",
          "diag_1_Diseases of the Blood and Blood-forming Organs",
          "diag_1_Diseases of the Circulatory System",
          "diag_1_Diseases of the Digestive System",
          "diag_1_Diseases of the Genitourinary System",
          "diag_1_Diseases of the Musculoskeletal System and Connective Tissue",
          "diag_1_Diseases of the Nervous System and Sense Organs",
          "diag_1_Diseases of the Respiratory System",
          "diag_1_Diseases of the Skin and Subcutaneous Tissue",
          "diag_1_Endocrine, Nutritional and Metabolic Diseases, and Immunity Disorders",
          "diag_1_Infectious and Parasitic Diseases",
          "diag_1_Injury and Poisoning",
          "diag_1_Mental Disorders",
          "diag_1_Neoplasms",
          "diag_1_Supplementary Classification of External Causes of Injury and Poisoning",
          "diag_1_Supplementary Classification of Factors influencing Health Status and Contact with Health Services",
          "diag_1_Symptoms, Signs and Ill-defined Conditions",
          "diag_2_?",
          "diag_2_Complications of Pregnancy, Childbirth, and the Puerperium",
          "diag_2_Congenital Anomalies",
          "diag_2_Diseases of the Blood and Blood-forming Organs",
          "diag_2_Diseases of the Circulatory System",
          "diag_2_Diseases of the Digestive System",
          "diag_2_Diseases of the Genitourinary System",
          "diag_2_Diseases of the Musculoskeletal System and Connective Tissue",
          "diag_2_Diseases of the Nervous System and Sense Organs",
          "diag_2_Diseases of the Respiratory System",
          "diag_2_Diseases of the Skin and Subcutaneous Tissue",
          "diag_2_Endocrine, Nutritional and Metabolic Diseases, and Immunity Disorders",
          "diag_2_Infectious and Parasitic Diseases",
          "diag_2_Injury and Poisoning",
          "diag_2_Mental Disorders",
          "diag_2_Neoplasms",
          "diag_2_Supplementary Classification of External Causes of Injury and Poisoning",
          "diag_2_Supplementary Classification of Factors influencing Health Status and Contact with Health Services",
          "diag_2_Symptoms, Signs and Ill-defined Conditions",
          "diag_3_?",
          "diag_3_Complications of Pregnancy, Childbirth, and the Puerperium",
          "diag_3_Congenital Anomalies",
          "diag_3_Diseases of the Blood and Blood-forming Organs",
          "diag_3_Diseases of the Circulatory System",
          "diag_3_Diseases of the Digestive System",
          "diag_3_Diseases of the Genitourinary System",
          "diag_3_Diseases of the Musculoskeletal System and Connective Tissue",
          "diag_3_Diseases of the Nervous System and Sense Organs",
          "diag_3_Diseases of the Respiratory System",
          "diag_3_Diseases of the Skin and Subcutaneous Tissue",
          "diag_3_Endocrine, Nutritional and Metabolic Diseases, and Immunity Disorders",
          "diag_3_Infectious and Parasitic Diseases",
          "diag_3_Injury and Poisoning",
          "diag_3_Mental Disorders",
          "diag_3_Neoplasms",
          "diag_3_Supplementary Classification of External Causes of Injury and Poisoning",
          "diag_3_Supplementary Classification of Factors influencing Health Status and Contact with Health Services",
          "diag_3_Symptoms, Signs and Ill-defined Conditions",
          "max_glu_serum_Over200",
          "max_glu_serum_Over300",
          "max_glu_serum_None",
          "max_glu_serum_Norm",
          "A1Cresult_Over7",
          "A1Cresult_Over8",
          "A1Cresult_None",
          "A1Cresult_Norm",
          "metformin_Down",
          "metformin_No",
          "metformin_Steady",
          "metformin_Up",
          "repaglinide_Down",
          "repaglinide_No",
          "repaglinide_Steady",
          "repaglinide_Up",
          "nateglinide_Down",
          "nateglinide_No",
          "nateglinide_Steady",
          "nateglinide_Up",
          "chlorpropamide_Down",
          "chlorpropamide_No",
          "chlorpropamide_Steady",
          "chlorpropamide_Up",
          "glimepiride_Down",
          "glimepiride_No",
          "glimepiride_Steady",
          "glimepiride_Up",
          "acetohexamide_No",
          "acetohexamide_Steady",
          "glipizide_Down",
          "glipizide_No",
          "glipizide_Steady",
          "glipizide_Up",
          "glyburide_Down",
          "glyburide_No",
          "glyburide_Steady",
          "glyburide_Up",
          "tolbutamide_No",
          "tolbutamide_Steady",
          "pioglitazone_Down",
          "pioglitazone_No",
          "pioglitazone_Steady",
          "pioglitazone_Up",
          "rosiglitazone_Down",
          "rosiglitazone_No",
          "rosiglitazone_Steady",
          "rosiglitazone_Up",
          "acarbose_No",
          "acarbose_Steady",
          "acarbose_Up",
          "miglitol_Down",
          "miglitol_No",
          "miglitol_Steady",
          "miglitol_Up",
          "troglitazone_No",
          "troglitazone_Steady",
          "tolazamide_No",
          "tolazamide_Steady",
          "insulin_Down",
          "insulin_No",
          "insulin_Steady",
          "insulin_Up",
          "glyburide-metformin_Down",
          "glyburide-metformin_No",
          "glyburide-metformin_Steady",
          "glyburide-metformin_Up",
          "glipizide-metformin_No",
          "glipizide-metformin_Steady",
          "glimepiride-pioglitazone_No",
          "metformin-rosiglitazone_No",
          "metformin-rosiglitazone_Steady",
          "metformin-pioglitazone_No",
          "metformin-pioglitazone_Steady",
          "change_Ch",
          "change_No",
          "diabetesMed_0",
          "diabetesMed_1",
          "admission_type_id_1",
          "admission_type_id_2",
          "admission_type_id_3",
          "admission_type_id_4",
          "admission_type_id_5",
          "admission_type_id_6",
          "admission_type_id_7",
          "admission_type_id_8",
          "discharge_disposition_id_1",
          "discharge_disposition_id_2",
          "discharge_disposition_id_3",
          "discharge_disposition_id_4",
          "discharge_disposition_id_5",
          "discharge_disposition_id_6",
          "discharge_disposition_id_7",
          "discharge_disposition_id_8",
          "discharge_disposition_id_9",
          "discharge_disposition_id_10",
          "discharge_disposition_id_12",
          "discharge_disposition_id_15",
          "discharge_disposition_id_16",
          "discharge_disposition_id_17",
          "discharge_disposition_id_18",
          "discharge_disposition_id_22",
          "discharge_disposition_id_23",
          "discharge_disposition_id_24",
          "discharge_disposition_id_25",
          "discharge_disposition_id_27",
          "discharge_disposition_id_28",
          "admission_source_id_1",
          "admission_source_id_2",
          "admission_source_id_3",
          "admission_source_id_4",
          "admission_source_id_5",
          "admission_source_id_6",
          "admission_source_id_7",
          "admission_source_id_8",
          "admission_source_id_9",
          "admission_source_id_10",
          "admission_source_id_11",
          "admission_source_id_13",
          "admission_source_id_14",
          "admission_source_id_17",
          "admission_source_id_20",
          "admission_source_id_22",
          "admission_source_id_25"
         ]
        }
       ],
       "layout": {
        "template": {
         "data": {
          "bar": [
           {
            "error_x": {
             "color": "#2a3f5f"
            },
            "error_y": {
             "color": "#2a3f5f"
            },
            "marker": {
             "line": {
              "color": "#E5ECF6",
              "width": 0.5
             }
            },
            "type": "bar"
           }
          ],
          "barpolar": [
           {
            "marker": {
             "line": {
              "color": "#E5ECF6",
              "width": 0.5
             }
            },
            "type": "barpolar"
           }
          ],
          "carpet": [
           {
            "aaxis": {
             "endlinecolor": "#2a3f5f",
             "gridcolor": "white",
             "linecolor": "white",
             "minorgridcolor": "white",
             "startlinecolor": "#2a3f5f"
            },
            "baxis": {
             "endlinecolor": "#2a3f5f",
             "gridcolor": "white",
             "linecolor": "white",
             "minorgridcolor": "white",
             "startlinecolor": "#2a3f5f"
            },
            "type": "carpet"
           }
          ],
          "choropleth": [
           {
            "colorbar": {
             "outlinewidth": 0,
             "ticks": ""
            },
            "type": "choropleth"
           }
          ],
          "contour": [
           {
            "colorbar": {
             "outlinewidth": 0,
             "ticks": ""
            },
            "colorscale": [
             [
              0,
              "#0d0887"
             ],
             [
              0.1111111111111111,
              "#46039f"
             ],
             [
              0.2222222222222222,
              "#7201a8"
             ],
             [
              0.3333333333333333,
              "#9c179e"
             ],
             [
              0.4444444444444444,
              "#bd3786"
             ],
             [
              0.5555555555555556,
              "#d8576b"
             ],
             [
              0.6666666666666666,
              "#ed7953"
             ],
             [
              0.7777777777777778,
              "#fb9f3a"
             ],
             [
              0.8888888888888888,
              "#fdca26"
             ],
             [
              1,
              "#f0f921"
             ]
            ],
            "type": "contour"
           }
          ],
          "contourcarpet": [
           {
            "colorbar": {
             "outlinewidth": 0,
             "ticks": ""
            },
            "type": "contourcarpet"
           }
          ],
          "heatmap": [
           {
            "colorbar": {
             "outlinewidth": 0,
             "ticks": ""
            },
            "colorscale": [
             [
              0,
              "#0d0887"
             ],
             [
              0.1111111111111111,
              "#46039f"
             ],
             [
              0.2222222222222222,
              "#7201a8"
             ],
             [
              0.3333333333333333,
              "#9c179e"
             ],
             [
              0.4444444444444444,
              "#bd3786"
             ],
             [
              0.5555555555555556,
              "#d8576b"
             ],
             [
              0.6666666666666666,
              "#ed7953"
             ],
             [
              0.7777777777777778,
              "#fb9f3a"
             ],
             [
              0.8888888888888888,
              "#fdca26"
             ],
             [
              1,
              "#f0f921"
             ]
            ],
            "type": "heatmap"
           }
          ],
          "heatmapgl": [
           {
            "colorbar": {
             "outlinewidth": 0,
             "ticks": ""
            },
            "colorscale": [
             [
              0,
              "#0d0887"
             ],
             [
              0.1111111111111111,
              "#46039f"
             ],
             [
              0.2222222222222222,
              "#7201a8"
             ],
             [
              0.3333333333333333,
              "#9c179e"
             ],
             [
              0.4444444444444444,
              "#bd3786"
             ],
             [
              0.5555555555555556,
              "#d8576b"
             ],
             [
              0.6666666666666666,
              "#ed7953"
             ],
             [
              0.7777777777777778,
              "#fb9f3a"
             ],
             [
              0.8888888888888888,
              "#fdca26"
             ],
             [
              1,
              "#f0f921"
             ]
            ],
            "type": "heatmapgl"
           }
          ],
          "histogram": [
           {
            "marker": {
             "colorbar": {
              "outlinewidth": 0,
              "ticks": ""
             }
            },
            "type": "histogram"
           }
          ],
          "histogram2d": [
           {
            "colorbar": {
             "outlinewidth": 0,
             "ticks": ""
            },
            "colorscale": [
             [
              0,
              "#0d0887"
             ],
             [
              0.1111111111111111,
              "#46039f"
             ],
             [
              0.2222222222222222,
              "#7201a8"
             ],
             [
              0.3333333333333333,
              "#9c179e"
             ],
             [
              0.4444444444444444,
              "#bd3786"
             ],
             [
              0.5555555555555556,
              "#d8576b"
             ],
             [
              0.6666666666666666,
              "#ed7953"
             ],
             [
              0.7777777777777778,
              "#fb9f3a"
             ],
             [
              0.8888888888888888,
              "#fdca26"
             ],
             [
              1,
              "#f0f921"
             ]
            ],
            "type": "histogram2d"
           }
          ],
          "histogram2dcontour": [
           {
            "colorbar": {
             "outlinewidth": 0,
             "ticks": ""
            },
            "colorscale": [
             [
              0,
              "#0d0887"
             ],
             [
              0.1111111111111111,
              "#46039f"
             ],
             [
              0.2222222222222222,
              "#7201a8"
             ],
             [
              0.3333333333333333,
              "#9c179e"
             ],
             [
              0.4444444444444444,
              "#bd3786"
             ],
             [
              0.5555555555555556,
              "#d8576b"
             ],
             [
              0.6666666666666666,
              "#ed7953"
             ],
             [
              0.7777777777777778,
              "#fb9f3a"
             ],
             [
              0.8888888888888888,
              "#fdca26"
             ],
             [
              1,
              "#f0f921"
             ]
            ],
            "type": "histogram2dcontour"
           }
          ],
          "mesh3d": [
           {
            "colorbar": {
             "outlinewidth": 0,
             "ticks": ""
            },
            "type": "mesh3d"
           }
          ],
          "parcoords": [
           {
            "line": {
             "colorbar": {
              "outlinewidth": 0,
              "ticks": ""
             }
            },
            "type": "parcoords"
           }
          ],
          "pie": [
           {
            "automargin": true,
            "type": "pie"
           }
          ],
          "scatter": [
           {
            "marker": {
             "colorbar": {
              "outlinewidth": 0,
              "ticks": ""
             }
            },
            "type": "scatter"
           }
          ],
          "scatter3d": [
           {
            "line": {
             "colorbar": {
              "outlinewidth": 0,
              "ticks": ""
             }
            },
            "marker": {
             "colorbar": {
              "outlinewidth": 0,
              "ticks": ""
             }
            },
            "type": "scatter3d"
           }
          ],
          "scattercarpet": [
           {
            "marker": {
             "colorbar": {
              "outlinewidth": 0,
              "ticks": ""
             }
            },
            "type": "scattercarpet"
           }
          ],
          "scattergeo": [
           {
            "marker": {
             "colorbar": {
              "outlinewidth": 0,
              "ticks": ""
             }
            },
            "type": "scattergeo"
           }
          ],
          "scattergl": [
           {
            "marker": {
             "colorbar": {
              "outlinewidth": 0,
              "ticks": ""
             }
            },
            "type": "scattergl"
           }
          ],
          "scattermapbox": [
           {
            "marker": {
             "colorbar": {
              "outlinewidth": 0,
              "ticks": ""
             }
            },
            "type": "scattermapbox"
           }
          ],
          "scatterpolar": [
           {
            "marker": {
             "colorbar": {
              "outlinewidth": 0,
              "ticks": ""
             }
            },
            "type": "scatterpolar"
           }
          ],
          "scatterpolargl": [
           {
            "marker": {
             "colorbar": {
              "outlinewidth": 0,
              "ticks": ""
             }
            },
            "type": "scatterpolargl"
           }
          ],
          "scatterternary": [
           {
            "marker": {
             "colorbar": {
              "outlinewidth": 0,
              "ticks": ""
             }
            },
            "type": "scatterternary"
           }
          ],
          "surface": [
           {
            "colorbar": {
             "outlinewidth": 0,
             "ticks": ""
            },
            "colorscale": [
             [
              0,
              "#0d0887"
             ],
             [
              0.1111111111111111,
              "#46039f"
             ],
             [
              0.2222222222222222,
              "#7201a8"
             ],
             [
              0.3333333333333333,
              "#9c179e"
             ],
             [
              0.4444444444444444,
              "#bd3786"
             ],
             [
              0.5555555555555556,
              "#d8576b"
             ],
             [
              0.6666666666666666,
              "#ed7953"
             ],
             [
              0.7777777777777778,
              "#fb9f3a"
             ],
             [
              0.8888888888888888,
              "#fdca26"
             ],
             [
              1,
              "#f0f921"
             ]
            ],
            "type": "surface"
           }
          ],
          "table": [
           {
            "cells": {
             "fill": {
              "color": "#EBF0F8"
             },
             "line": {
              "color": "white"
             }
            },
            "header": {
             "fill": {
              "color": "#C8D4E3"
             },
             "line": {
              "color": "white"
             }
            },
            "type": "table"
           }
          ]
         },
         "layout": {
          "annotationdefaults": {
           "arrowcolor": "#2a3f5f",
           "arrowhead": 0,
           "arrowwidth": 1
          },
          "coloraxis": {
           "colorbar": {
            "outlinewidth": 0,
            "ticks": ""
           }
          },
          "colorscale": {
           "diverging": [
            [
             0,
             "#8e0152"
            ],
            [
             0.1,
             "#c51b7d"
            ],
            [
             0.2,
             "#de77ae"
            ],
            [
             0.3,
             "#f1b6da"
            ],
            [
             0.4,
             "#fde0ef"
            ],
            [
             0.5,
             "#f7f7f7"
            ],
            [
             0.6,
             "#e6f5d0"
            ],
            [
             0.7,
             "#b8e186"
            ],
            [
             0.8,
             "#7fbc41"
            ],
            [
             0.9,
             "#4d9221"
            ],
            [
             1,
             "#276419"
            ]
           ],
           "sequential": [
            [
             0,
             "#0d0887"
            ],
            [
             0.1111111111111111,
             "#46039f"
            ],
            [
             0.2222222222222222,
             "#7201a8"
            ],
            [
             0.3333333333333333,
             "#9c179e"
            ],
            [
             0.4444444444444444,
             "#bd3786"
            ],
            [
             0.5555555555555556,
             "#d8576b"
            ],
            [
             0.6666666666666666,
             "#ed7953"
            ],
            [
             0.7777777777777778,
             "#fb9f3a"
            ],
            [
             0.8888888888888888,
             "#fdca26"
            ],
            [
             1,
             "#f0f921"
            ]
           ],
           "sequentialminus": [
            [
             0,
             "#0d0887"
            ],
            [
             0.1111111111111111,
             "#46039f"
            ],
            [
             0.2222222222222222,
             "#7201a8"
            ],
            [
             0.3333333333333333,
             "#9c179e"
            ],
            [
             0.4444444444444444,
             "#bd3786"
            ],
            [
             0.5555555555555556,
             "#d8576b"
            ],
            [
             0.6666666666666666,
             "#ed7953"
            ],
            [
             0.7777777777777778,
             "#fb9f3a"
            ],
            [
             0.8888888888888888,
             "#fdca26"
            ],
            [
             1,
             "#f0f921"
            ]
           ]
          },
          "colorway": [
           "#636efa",
           "#EF553B",
           "#00cc96",
           "#ab63fa",
           "#FFA15A",
           "#19d3f3",
           "#FF6692",
           "#B6E880",
           "#FF97FF",
           "#FECB52"
          ],
          "font": {
           "color": "#2a3f5f"
          },
          "geo": {
           "bgcolor": "white",
           "lakecolor": "white",
           "landcolor": "#E5ECF6",
           "showlakes": true,
           "showland": true,
           "subunitcolor": "white"
          },
          "hoverlabel": {
           "align": "left"
          },
          "hovermode": "closest",
          "mapbox": {
           "style": "light"
          },
          "paper_bgcolor": "white",
          "plot_bgcolor": "#E5ECF6",
          "polar": {
           "angularaxis": {
            "gridcolor": "white",
            "linecolor": "white",
            "ticks": ""
           },
           "bgcolor": "#E5ECF6",
           "radialaxis": {
            "gridcolor": "white",
            "linecolor": "white",
            "ticks": ""
           }
          },
          "scene": {
           "xaxis": {
            "backgroundcolor": "#E5ECF6",
            "gridcolor": "white",
            "gridwidth": 2,
            "linecolor": "white",
            "showbackground": true,
            "ticks": "",
            "zerolinecolor": "white"
           },
           "yaxis": {
            "backgroundcolor": "#E5ECF6",
            "gridcolor": "white",
            "gridwidth": 2,
            "linecolor": "white",
            "showbackground": true,
            "ticks": "",
            "zerolinecolor": "white"
           },
           "zaxis": {
            "backgroundcolor": "#E5ECF6",
            "gridcolor": "white",
            "gridwidth": 2,
            "linecolor": "white",
            "showbackground": true,
            "ticks": "",
            "zerolinecolor": "white"
           }
          },
          "shapedefaults": {
           "line": {
            "color": "#2a3f5f"
           }
          },
          "ternary": {
           "aaxis": {
            "gridcolor": "white",
            "linecolor": "white",
            "ticks": ""
           },
           "baxis": {
            "gridcolor": "white",
            "linecolor": "white",
            "ticks": ""
           },
           "bgcolor": "#E5ECF6",
           "caxis": {
            "gridcolor": "white",
            "linecolor": "white",
            "ticks": ""
           }
          },
          "title": {
           "x": 0.05
          },
          "xaxis": {
           "automargin": true,
           "gridcolor": "white",
           "linecolor": "white",
           "ticks": "",
           "title": {
            "standoff": 15
           },
           "zerolinecolor": "white",
           "zerolinewidth": 2
          },
          "yaxis": {
           "automargin": true,
           "gridcolor": "white",
           "linecolor": "white",
           "ticks": "",
           "title": {
            "standoff": 15
           },
           "zerolinecolor": "white",
           "zerolinewidth": 2
          }
         }
        }
       }
      },
      "text/html": [
       "<div>\n",
       "        \n",
       "        \n",
       "            <div id=\"45df068d-2da9-42df-a32f-753982b66a51\" class=\"plotly-graph-div\" style=\"height:525px; width:100%;\"></div>\n",
       "            <script type=\"text/javascript\">\n",
       "                require([\"plotly\"], function(Plotly) {\n",
       "                    window.PLOTLYENV=window.PLOTLYENV || {};\n",
       "                    \n",
       "                if (document.getElementById(\"45df068d-2da9-42df-a32f-753982b66a51\")) {\n",
       "                    Plotly.newPlot(\n",
       "                        '45df068d-2da9-42df-a32f-753982b66a51',\n",
       "                        [{\"orientation\": \"h\", \"type\": \"bar\", \"x\": [0.005921314004808664, 0.004814860876649618, 0.005118655040860176, 0.00510324165225029, 0.004739701282233, 0.00563663337379694, 0.01561329048126936, 0.005625753663480282, 0.00495119160041213, 0.004676581360399723, 0.0, 0.0, 0.0, 0.005582311190664768, 0.004210768733173609, 0.004345185123383999, 0.007182644680142403, 0.004917688202112913, 0.004902967251837254, 0.0057478309608995914, 0.008350973948836327, 0.004722424317151308, 0.0, 0.0, 0.0, 0.00531088188290596, 0.0, 0.0, 0.0, 0.0, 0.005093768239021301, 0.0027776227798312902, 0.0, 0.0044782948680222034, 0.006022876128554344, 0.0015135834692046046, 0.00487938616424799, 0.006124218925833702, 0.0, 0.0, 0.0058088055811822414, 0.005249423906207085, 0.0, 0.0, 0.0011269996175542474, 0.0, 0.0026845703832805157, 0.005968420300632715, 0.0012234016321599483, 0.0041115665808320045, 0.005856595933437347, 0.0, 0.002759578637778759, 0.0, 0.0, 0.0029533999040722847, 0.0018640796188265085, 0.0, 0.003270909423008561, 0.0, 0.0, 0.0, 0.0, 0.0037128201220184565, 0.0, 0.001541586359962821, 0.0, 0.006709594279527664, 0.0, 0.0, 0.0, 0.006818181369453669, 0.006137645337730646, 0.0, 0.0, 0.0, 0.0, 0.0, 0.0, 0.0, 0.0, 0.0, 0.006394390482455492, 0.0, 0.004312282893806696, 0.0, 0.0, 0.0, 0.00262899580411613, 0.0041688173078000546, 0.0, 0.007383351214230061, 0.0, 0.007796384394168854, 0.0, 0.007975021377205849, 0.005344584118574858, 0.004963977728039026, 0.005798014812171459, 0.010634491220116615, 0.003740984946489334, 0.004988403525203466, 0.0047157020308077335, 0.006247158627957106, 0.005545913707464933, 0.005365950521081686, 0.014796987175941467, 0.006708481349050999, 0.0, 0.008741569705307484, 0.006521070841699839, 0.0, 0.0013031542766839266, 0.0015299436636269093, 0.005870457738637924, 0.005882469937205315, 0.004596316255629063, 0.004201072268188, 0.00524555891752243, 0.00789391715079546, 0.0037424045149236917, 0.007157463580369949, 0.004963405895978212, 0.006275352090597153, 0.0063555799424648285, 0.005937653128057718, 0.006574805825948715, 0.004683561157435179, 0.007012678310275078, 0.0060692052356898785, 0.002903260989114642, 0.004595168400555849, 0.0, 0.005558623932301998, 0.004313604440540075, 0.003821756923571229, 0.009533057920634747, 0.005214424803853035, 0.006932979915291071, 0.006959980819374323, 0.0031154234893620014, 0.004241886083036661, 0.004784486256539822, 0.00590131152421236, 0.006398339755833149, 0.005586329847574234, 0.0060330950655043125, 0.005909493658691645, 0.00575911533087492, 0.005611947271972895, 0.006240877788513899, 0.004798800218850374, 0.006827672012150288, 0.005784221924841404, 0.004574972670525312, 0.004446264356374741, 0.005516331177204847, 0.006251671817153692, 0.00429694214835763, 0.00437520258128643, 0.003569936379790306, 0.0, 0.00801391527056694, 0.010005708783864975, 0.009886621497571468, 0.0, 0.0, 0.0, 0.0, 0.0, 0.00212488928809762, 0.0, 0.0, 0.002595249330624938, 0.006246935110539198, 0.004507430363446474, 0.0049332971684634686, 0.0, 0.0, 0.005158035550266504, 0.0045340596698224545, 0.004200493451207876, 0.0, 0.004646086599677801, 0.00880705751478672, 0.00550617603585124, 0.0, 0.0, 0.0, 0.00202545034699142, 0.00604616105556488, 0.006232768762856722, 0.006871411576867104, 0.002418485702946782, 0.005937071051448584, 0.006414533127099276, 0.0, 0.0, 0.0018664614763110876, 0.0, 0.0, 0.0, 0.0, 0.0, 0.0, 0.0, 0.001355474698357284, 0.0, 0.005607967264950275, 0.00507706543430686, 0.00522145489230752, 0.004586058668792248, 0.0, 0.0047587743028998375, 0.0, 0.0, 0.0, 0.0, 0.0, 0.0, 0.0, 0.0, 0.0, 0.00395195372402668, 0.0, 0.006913861259818077, 0.0, 0.005034670699387789, 0.005795933771878481, 0.0055083949118852615, 0.0, 0.008130000904202461, 0.0072097377851605415, 0.0013131771702319384, 0.0032242515590041876, 0.04638952761888504, 0.01298199687153101, 0.006330376956611872, 0.007540405262261629, 0.009775676764547825, 0.00769770098850131, 0.005766331218183041, 0.004171529784798622, 0.0, 0.0, 0.0, 0.005702688358724117, 0.0, 0.0, 0.006306874565780163, 0.022437473759055138, 0.0060065980069339275, 0.0, 0.006664607208222151, 0.0, 0.008662329986691475, 0.004688664805144072, 0.003248984459787607, 0.0064608147367835045, 0.0076456014066934586, 0.0033849370665848255, 0.0054189409129321575, 0.00527186319231987, 0.0, 0.0, 0.0, 0.0, 0.0, 0.0, 0.004947924055159092, 0.0037441879976540804, 0.0, 0.0], \"y\": [\"time_in_hospital\", \"num_lab_procedures\", \"num_procedures\", \"num_medications\", \"number_outpatient\", \"number_emergency\", \"number_inpatient\", \"number_diagnoses\", \"gender_Female\", \"gender_Male\", \"gender_Unknown/Invalid\", \"age_(0-10)\", \"age_(10-20)\", \"age_(20-30)\", \"age_(30-40)\", \"age_(40-50)\", \"age_(50-60)\", \"age_(60-70)\", \"age_(70-80)\", \"age_(80-90)\", \"age_(90-100)\", \"medical_specialty_?\", \"medical_specialty_AllergyandImmunology\", \"medical_specialty_Anesthesiology\", \"medical_specialty_Anesthesiology-Pediatric\", \"medical_specialty_Cardiology\", \"medical_specialty_Cardiology-Pediatric\", \"medical_specialty_DCPTEAM\", \"medical_specialty_Dentistry\", \"medical_specialty_Dermatology\", \"medical_specialty_Emergency/Trauma\", \"medical_specialty_Endocrinology\", \"medical_specialty_Endocrinology-Metabolism\", \"medical_specialty_Family/GeneralPractice\", \"medical_specialty_Gastroenterology\", \"medical_specialty_Gynecology\", \"medical_specialty_Hematology\", \"medical_specialty_Hematology/Oncology\", \"medical_specialty_Hospitalist\", \"medical_specialty_InfectiousDiseases\", \"medical_specialty_InternalMedicine\", \"medical_specialty_Nephrology\", \"medical_specialty_Neurology\", \"medical_specialty_Neurophysiology\", \"medical_specialty_Obsterics&Gynecology-GynecologicOnco\", \"medical_specialty_Obstetrics\", \"medical_specialty_ObstetricsandGynecology\", \"medical_specialty_Oncology\", \"medical_specialty_Ophthalmology\", \"medical_specialty_Orthopedics\", \"medical_specialty_Orthopedics-Reconstructive\", \"medical_specialty_Osteopath\", \"medical_specialty_Otolaryngology\", \"medical_specialty_OutreachServices\", \"medical_specialty_Pathology\", \"medical_specialty_Pediatrics\", \"medical_specialty_Pediatrics-CriticalCare\", \"medical_specialty_Pediatrics-EmergencyMedicine\", \"medical_specialty_Pediatrics-Endocrinology\", \"medical_specialty_Pediatrics-Hematology-Oncology\", \"medical_specialty_Pediatrics-Neurology\", \"medical_specialty_Pediatrics-Pulmonology\", \"medical_specialty_Perinatology\", \"medical_specialty_PhysicalMedicineandRehabilitation\", \"medical_specialty_PhysicianNotFound\", \"medical_specialty_Podiatry\", \"medical_specialty_Proctology\", \"medical_specialty_Psychiatry\", \"medical_specialty_Psychiatry-Addictive\", \"medical_specialty_Psychiatry-Child/Adolescent\", \"medical_specialty_Psychology\", \"medical_specialty_Pulmonology\", \"medical_specialty_Radiologist\", \"medical_specialty_Radiology\", \"medical_specialty_Resident\", \"medical_specialty_Rheumatology\", \"medical_specialty_Speech\", \"medical_specialty_SportsMedicine\", \"medical_specialty_Surgeon\", \"medical_specialty_Surgery-Cardiovascular\", \"medical_specialty_Surgery-Cardiovascular/Thoracic\", \"medical_specialty_Surgery-Colon&Rectal\", \"medical_specialty_Surgery-General\", \"medical_specialty_Surgery-Maxillofacial\", \"medical_specialty_Surgery-Neuro\", \"medical_specialty_Surgery-Pediatric\", \"medical_specialty_Surgery-Plastic\", \"medical_specialty_Surgery-PlasticwithinHeadandNeck\", \"medical_specialty_Surgery-Thoracic\", \"medical_specialty_Surgery-Vascular\", \"medical_specialty_SurgicalSpecialty\", \"medical_specialty_Urology\", \"diag_1_?\", \"diag_1_Complications of Pregnancy, Childbirth, and the Puerperium\", \"diag_1_Congenital Anomalies\", \"diag_1_Diseases of the Blood and Blood-forming Organs\", \"diag_1_Diseases of the Circulatory System\", \"diag_1_Diseases of the Digestive System\", \"diag_1_Diseases of the Genitourinary System\", \"diag_1_Diseases of the Musculoskeletal System and Connective Tissue\", \"diag_1_Diseases of the Nervous System and Sense Organs\", \"diag_1_Diseases of the Respiratory System\", \"diag_1_Diseases of the Skin and Subcutaneous Tissue\", \"diag_1_Endocrine, Nutritional and Metabolic Diseases, and Immunity Disorders\", \"diag_1_Infectious and Parasitic Diseases\", \"diag_1_Injury and Poisoning\", \"diag_1_Mental Disorders\", \"diag_1_Neoplasms\", \"diag_1_Supplementary Classification of External Causes of Injury and Poisoning\", \"diag_1_Supplementary Classification of Factors influencing Health Status and Contact with Health Services\", \"diag_1_Symptoms, Signs and Ill-defined Conditions\", \"diag_2_?\", \"diag_2_Complications of Pregnancy, Childbirth, and the Puerperium\", \"diag_2_Congenital Anomalies\", \"diag_2_Diseases of the Blood and Blood-forming Organs\", \"diag_2_Diseases of the Circulatory System\", \"diag_2_Diseases of the Digestive System\", \"diag_2_Diseases of the Genitourinary System\", \"diag_2_Diseases of the Musculoskeletal System and Connective Tissue\", \"diag_2_Diseases of the Nervous System and Sense Organs\", \"diag_2_Diseases of the Respiratory System\", \"diag_2_Diseases of the Skin and Subcutaneous Tissue\", \"diag_2_Endocrine, Nutritional and Metabolic Diseases, and Immunity Disorders\", \"diag_2_Infectious and Parasitic Diseases\", \"diag_2_Injury and Poisoning\", \"diag_2_Mental Disorders\", \"diag_2_Neoplasms\", \"diag_2_Supplementary Classification of External Causes of Injury and Poisoning\", \"diag_2_Supplementary Classification of Factors influencing Health Status and Contact with Health Services\", \"diag_2_Symptoms, Signs and Ill-defined Conditions\", \"diag_3_?\", \"diag_3_Complications of Pregnancy, Childbirth, and the Puerperium\", \"diag_3_Congenital Anomalies\", \"diag_3_Diseases of the Blood and Blood-forming Organs\", \"diag_3_Diseases of the Circulatory System\", \"diag_3_Diseases of the Digestive System\", \"diag_3_Diseases of the Genitourinary System\", \"diag_3_Diseases of the Musculoskeletal System and Connective Tissue\", \"diag_3_Diseases of the Nervous System and Sense Organs\", \"diag_3_Diseases of the Respiratory System\", \"diag_3_Diseases of the Skin and Subcutaneous Tissue\", \"diag_3_Endocrine, Nutritional and Metabolic Diseases, and Immunity Disorders\", \"diag_3_Infectious and Parasitic Diseases\", \"diag_3_Injury and Poisoning\", \"diag_3_Mental Disorders\", \"diag_3_Neoplasms\", \"diag_3_Supplementary Classification of External Causes of Injury and Poisoning\", \"diag_3_Supplementary Classification of Factors influencing Health Status and Contact with Health Services\", \"diag_3_Symptoms, Signs and Ill-defined Conditions\", \"max_glu_serum_Over200\", \"max_glu_serum_Over300\", \"max_glu_serum_None\", \"max_glu_serum_Norm\", \"A1Cresult_Over7\", \"A1Cresult_Over8\", \"A1Cresult_None\", \"A1Cresult_Norm\", \"metformin_Down\", \"metformin_No\", \"metformin_Steady\", \"metformin_Up\", \"repaglinide_Down\", \"repaglinide_No\", \"repaglinide_Steady\", \"repaglinide_Up\", \"nateglinide_Down\", \"nateglinide_No\", \"nateglinide_Steady\", \"nateglinide_Up\", \"chlorpropamide_Down\", \"chlorpropamide_No\", \"chlorpropamide_Steady\", \"chlorpropamide_Up\", \"glimepiride_Down\", \"glimepiride_No\", \"glimepiride_Steady\", \"glimepiride_Up\", \"acetohexamide_No\", \"acetohexamide_Steady\", \"glipizide_Down\", \"glipizide_No\", \"glipizide_Steady\", \"glipizide_Up\", \"glyburide_Down\", \"glyburide_No\", \"glyburide_Steady\", \"glyburide_Up\", \"tolbutamide_No\", \"tolbutamide_Steady\", \"pioglitazone_Down\", \"pioglitazone_No\", \"pioglitazone_Steady\", \"pioglitazone_Up\", \"rosiglitazone_Down\", \"rosiglitazone_No\", \"rosiglitazone_Steady\", \"rosiglitazone_Up\", \"acarbose_No\", \"acarbose_Steady\", \"acarbose_Up\", \"miglitol_Down\", \"miglitol_No\", \"miglitol_Steady\", \"miglitol_Up\", \"troglitazone_No\", \"troglitazone_Steady\", \"tolazamide_No\", \"tolazamide_Steady\", \"insulin_Down\", \"insulin_No\", \"insulin_Steady\", \"insulin_Up\", \"glyburide-metformin_Down\", \"glyburide-metformin_No\", \"glyburide-metformin_Steady\", \"glyburide-metformin_Up\", \"glipizide-metformin_No\", \"glipizide-metformin_Steady\", \"glimepiride-pioglitazone_No\", \"metformin-rosiglitazone_No\", \"metformin-rosiglitazone_Steady\", \"metformin-pioglitazone_No\", \"metformin-pioglitazone_Steady\", \"change_Ch\", \"change_No\", \"diabetesMed_0\", \"diabetesMed_1\", \"admission_type_id_1\", \"admission_type_id_2\", \"admission_type_id_3\", \"admission_type_id_4\", \"admission_type_id_5\", \"admission_type_id_6\", \"admission_type_id_7\", \"admission_type_id_8\", \"discharge_disposition_id_1\", \"discharge_disposition_id_2\", \"discharge_disposition_id_3\", \"discharge_disposition_id_4\", \"discharge_disposition_id_5\", \"discharge_disposition_id_6\", \"discharge_disposition_id_7\", \"discharge_disposition_id_8\", \"discharge_disposition_id_9\", \"discharge_disposition_id_10\", \"discharge_disposition_id_12\", \"discharge_disposition_id_15\", \"discharge_disposition_id_16\", \"discharge_disposition_id_17\", \"discharge_disposition_id_18\", \"discharge_disposition_id_22\", \"discharge_disposition_id_23\", \"discharge_disposition_id_24\", \"discharge_disposition_id_25\", \"discharge_disposition_id_27\", \"discharge_disposition_id_28\", \"admission_source_id_1\", \"admission_source_id_2\", \"admission_source_id_3\", \"admission_source_id_4\", \"admission_source_id_5\", \"admission_source_id_6\", \"admission_source_id_7\", \"admission_source_id_8\", \"admission_source_id_9\", \"admission_source_id_10\", \"admission_source_id_11\", \"admission_source_id_13\", \"admission_source_id_14\", \"admission_source_id_17\", \"admission_source_id_20\", \"admission_source_id_22\", \"admission_source_id_25\"]}],\n",
       "                        {\"template\": {\"data\": {\"bar\": [{\"error_x\": {\"color\": \"#2a3f5f\"}, \"error_y\": {\"color\": \"#2a3f5f\"}, \"marker\": {\"line\": {\"color\": \"#E5ECF6\", \"width\": 0.5}}, \"type\": \"bar\"}], \"barpolar\": [{\"marker\": {\"line\": {\"color\": \"#E5ECF6\", \"width\": 0.5}}, \"type\": \"barpolar\"}], \"carpet\": [{\"aaxis\": {\"endlinecolor\": \"#2a3f5f\", \"gridcolor\": \"white\", \"linecolor\": \"white\", \"minorgridcolor\": \"white\", \"startlinecolor\": \"#2a3f5f\"}, \"baxis\": {\"endlinecolor\": \"#2a3f5f\", \"gridcolor\": \"white\", \"linecolor\": \"white\", \"minorgridcolor\": \"white\", \"startlinecolor\": \"#2a3f5f\"}, \"type\": \"carpet\"}], \"choropleth\": [{\"colorbar\": {\"outlinewidth\": 0, \"ticks\": \"\"}, \"type\": \"choropleth\"}], \"contour\": [{\"colorbar\": {\"outlinewidth\": 0, \"ticks\": \"\"}, \"colorscale\": [[0.0, \"#0d0887\"], [0.1111111111111111, \"#46039f\"], [0.2222222222222222, \"#7201a8\"], [0.3333333333333333, \"#9c179e\"], [0.4444444444444444, \"#bd3786\"], [0.5555555555555556, \"#d8576b\"], [0.6666666666666666, \"#ed7953\"], [0.7777777777777778, \"#fb9f3a\"], [0.8888888888888888, \"#fdca26\"], [1.0, \"#f0f921\"]], \"type\": \"contour\"}], \"contourcarpet\": [{\"colorbar\": {\"outlinewidth\": 0, \"ticks\": \"\"}, \"type\": \"contourcarpet\"}], \"heatmap\": [{\"colorbar\": {\"outlinewidth\": 0, \"ticks\": \"\"}, \"colorscale\": [[0.0, \"#0d0887\"], [0.1111111111111111, \"#46039f\"], [0.2222222222222222, \"#7201a8\"], [0.3333333333333333, \"#9c179e\"], [0.4444444444444444, \"#bd3786\"], [0.5555555555555556, \"#d8576b\"], [0.6666666666666666, \"#ed7953\"], [0.7777777777777778, \"#fb9f3a\"], [0.8888888888888888, \"#fdca26\"], [1.0, \"#f0f921\"]], \"type\": \"heatmap\"}], \"heatmapgl\": [{\"colorbar\": {\"outlinewidth\": 0, \"ticks\": \"\"}, \"colorscale\": [[0.0, \"#0d0887\"], [0.1111111111111111, \"#46039f\"], [0.2222222222222222, \"#7201a8\"], [0.3333333333333333, \"#9c179e\"], [0.4444444444444444, \"#bd3786\"], [0.5555555555555556, \"#d8576b\"], [0.6666666666666666, \"#ed7953\"], [0.7777777777777778, \"#fb9f3a\"], [0.8888888888888888, \"#fdca26\"], [1.0, \"#f0f921\"]], \"type\": \"heatmapgl\"}], \"histogram\": [{\"marker\": {\"colorbar\": {\"outlinewidth\": 0, \"ticks\": \"\"}}, \"type\": \"histogram\"}], \"histogram2d\": [{\"colorbar\": {\"outlinewidth\": 0, \"ticks\": \"\"}, \"colorscale\": [[0.0, \"#0d0887\"], [0.1111111111111111, \"#46039f\"], [0.2222222222222222, \"#7201a8\"], [0.3333333333333333, \"#9c179e\"], [0.4444444444444444, \"#bd3786\"], [0.5555555555555556, \"#d8576b\"], [0.6666666666666666, \"#ed7953\"], [0.7777777777777778, \"#fb9f3a\"], [0.8888888888888888, \"#fdca26\"], [1.0, \"#f0f921\"]], \"type\": \"histogram2d\"}], \"histogram2dcontour\": [{\"colorbar\": {\"outlinewidth\": 0, \"ticks\": \"\"}, \"colorscale\": [[0.0, \"#0d0887\"], [0.1111111111111111, \"#46039f\"], [0.2222222222222222, \"#7201a8\"], [0.3333333333333333, \"#9c179e\"], [0.4444444444444444, \"#bd3786\"], [0.5555555555555556, \"#d8576b\"], [0.6666666666666666, \"#ed7953\"], [0.7777777777777778, \"#fb9f3a\"], [0.8888888888888888, \"#fdca26\"], [1.0, \"#f0f921\"]], \"type\": \"histogram2dcontour\"}], \"mesh3d\": [{\"colorbar\": {\"outlinewidth\": 0, \"ticks\": \"\"}, \"type\": \"mesh3d\"}], \"parcoords\": [{\"line\": {\"colorbar\": {\"outlinewidth\": 0, \"ticks\": \"\"}}, \"type\": \"parcoords\"}], \"pie\": [{\"automargin\": true, \"type\": \"pie\"}], \"scatter\": [{\"marker\": {\"colorbar\": {\"outlinewidth\": 0, \"ticks\": \"\"}}, \"type\": \"scatter\"}], \"scatter3d\": [{\"line\": {\"colorbar\": {\"outlinewidth\": 0, \"ticks\": \"\"}}, \"marker\": {\"colorbar\": {\"outlinewidth\": 0, \"ticks\": \"\"}}, \"type\": \"scatter3d\"}], \"scattercarpet\": [{\"marker\": {\"colorbar\": {\"outlinewidth\": 0, \"ticks\": \"\"}}, \"type\": \"scattercarpet\"}], \"scattergeo\": [{\"marker\": {\"colorbar\": {\"outlinewidth\": 0, \"ticks\": \"\"}}, \"type\": \"scattergeo\"}], \"scattergl\": [{\"marker\": {\"colorbar\": {\"outlinewidth\": 0, \"ticks\": \"\"}}, \"type\": \"scattergl\"}], \"scattermapbox\": [{\"marker\": {\"colorbar\": {\"outlinewidth\": 0, \"ticks\": \"\"}}, \"type\": \"scattermapbox\"}], \"scatterpolar\": [{\"marker\": {\"colorbar\": {\"outlinewidth\": 0, \"ticks\": \"\"}}, \"type\": \"scatterpolar\"}], \"scatterpolargl\": [{\"marker\": {\"colorbar\": {\"outlinewidth\": 0, \"ticks\": \"\"}}, \"type\": \"scatterpolargl\"}], \"scatterternary\": [{\"marker\": {\"colorbar\": {\"outlinewidth\": 0, \"ticks\": \"\"}}, \"type\": \"scatterternary\"}], \"surface\": [{\"colorbar\": {\"outlinewidth\": 0, \"ticks\": \"\"}, \"colorscale\": [[0.0, \"#0d0887\"], [0.1111111111111111, \"#46039f\"], [0.2222222222222222, \"#7201a8\"], [0.3333333333333333, \"#9c179e\"], [0.4444444444444444, \"#bd3786\"], [0.5555555555555556, \"#d8576b\"], [0.6666666666666666, \"#ed7953\"], [0.7777777777777778, \"#fb9f3a\"], [0.8888888888888888, \"#fdca26\"], [1.0, \"#f0f921\"]], \"type\": \"surface\"}], \"table\": [{\"cells\": {\"fill\": {\"color\": \"#EBF0F8\"}, \"line\": {\"color\": \"white\"}}, \"header\": {\"fill\": {\"color\": \"#C8D4E3\"}, \"line\": {\"color\": \"white\"}}, \"type\": \"table\"}]}, \"layout\": {\"annotationdefaults\": {\"arrowcolor\": \"#2a3f5f\", \"arrowhead\": 0, \"arrowwidth\": 1}, \"coloraxis\": {\"colorbar\": {\"outlinewidth\": 0, \"ticks\": \"\"}}, \"colorscale\": {\"diverging\": [[0, \"#8e0152\"], [0.1, \"#c51b7d\"], [0.2, \"#de77ae\"], [0.3, \"#f1b6da\"], [0.4, \"#fde0ef\"], [0.5, \"#f7f7f7\"], [0.6, \"#e6f5d0\"], [0.7, \"#b8e186\"], [0.8, \"#7fbc41\"], [0.9, \"#4d9221\"], [1, \"#276419\"]], \"sequential\": [[0.0, \"#0d0887\"], [0.1111111111111111, \"#46039f\"], [0.2222222222222222, \"#7201a8\"], [0.3333333333333333, \"#9c179e\"], [0.4444444444444444, \"#bd3786\"], [0.5555555555555556, \"#d8576b\"], [0.6666666666666666, \"#ed7953\"], [0.7777777777777778, \"#fb9f3a\"], [0.8888888888888888, \"#fdca26\"], [1.0, \"#f0f921\"]], \"sequentialminus\": [[0.0, \"#0d0887\"], [0.1111111111111111, \"#46039f\"], [0.2222222222222222, \"#7201a8\"], [0.3333333333333333, \"#9c179e\"], [0.4444444444444444, \"#bd3786\"], [0.5555555555555556, \"#d8576b\"], [0.6666666666666666, \"#ed7953\"], [0.7777777777777778, \"#fb9f3a\"], [0.8888888888888888, \"#fdca26\"], [1.0, \"#f0f921\"]]}, \"colorway\": [\"#636efa\", \"#EF553B\", \"#00cc96\", \"#ab63fa\", \"#FFA15A\", \"#19d3f3\", \"#FF6692\", \"#B6E880\", \"#FF97FF\", \"#FECB52\"], \"font\": {\"color\": \"#2a3f5f\"}, \"geo\": {\"bgcolor\": \"white\", \"lakecolor\": \"white\", \"landcolor\": \"#E5ECF6\", \"showlakes\": true, \"showland\": true, \"subunitcolor\": \"white\"}, \"hoverlabel\": {\"align\": \"left\"}, \"hovermode\": \"closest\", \"mapbox\": {\"style\": \"light\"}, \"paper_bgcolor\": \"white\", \"plot_bgcolor\": \"#E5ECF6\", \"polar\": {\"angularaxis\": {\"gridcolor\": \"white\", \"linecolor\": \"white\", \"ticks\": \"\"}, \"bgcolor\": \"#E5ECF6\", \"radialaxis\": {\"gridcolor\": \"white\", \"linecolor\": \"white\", \"ticks\": \"\"}}, \"scene\": {\"xaxis\": {\"backgroundcolor\": \"#E5ECF6\", \"gridcolor\": \"white\", \"gridwidth\": 2, \"linecolor\": \"white\", \"showbackground\": true, \"ticks\": \"\", \"zerolinecolor\": \"white\"}, \"yaxis\": {\"backgroundcolor\": \"#E5ECF6\", \"gridcolor\": \"white\", \"gridwidth\": 2, \"linecolor\": \"white\", \"showbackground\": true, \"ticks\": \"\", \"zerolinecolor\": \"white\"}, \"zaxis\": {\"backgroundcolor\": \"#E5ECF6\", \"gridcolor\": \"white\", \"gridwidth\": 2, \"linecolor\": \"white\", \"showbackground\": true, \"ticks\": \"\", \"zerolinecolor\": \"white\"}}, \"shapedefaults\": {\"line\": {\"color\": \"#2a3f5f\"}}, \"ternary\": {\"aaxis\": {\"gridcolor\": \"white\", \"linecolor\": \"white\", \"ticks\": \"\"}, \"baxis\": {\"gridcolor\": \"white\", \"linecolor\": \"white\", \"ticks\": \"\"}, \"bgcolor\": \"#E5ECF6\", \"caxis\": {\"gridcolor\": \"white\", \"linecolor\": \"white\", \"ticks\": \"\"}}, \"title\": {\"x\": 0.05}, \"xaxis\": {\"automargin\": true, \"gridcolor\": \"white\", \"linecolor\": \"white\", \"ticks\": \"\", \"title\": {\"standoff\": 15}, \"zerolinecolor\": \"white\", \"zerolinewidth\": 2}, \"yaxis\": {\"automargin\": true, \"gridcolor\": \"white\", \"linecolor\": \"white\", \"ticks\": \"\", \"title\": {\"standoff\": 15}, \"zerolinecolor\": \"white\", \"zerolinewidth\": 2}}}},\n",
       "                        {\"responsive\": true}\n",
       "                    ).then(function(){\n",
       "                            \n",
       "var gd = document.getElementById('45df068d-2da9-42df-a32f-753982b66a51');\n",
       "var x = new MutationObserver(function (mutations, observer) {{\n",
       "        var display = window.getComputedStyle(gd).display;\n",
       "        if (!display || display === 'none') {{\n",
       "            console.log([gd, 'removed!']);\n",
       "            Plotly.purge(gd);\n",
       "            observer.disconnect();\n",
       "        }}\n",
       "}});\n",
       "\n",
       "// Listen for the removal of the full notebook cells\n",
       "var notebookContainer = gd.closest('#notebook-container');\n",
       "if (notebookContainer) {{\n",
       "    x.observe(notebookContainer, {childList: true});\n",
       "}}\n",
       "\n",
       "// Listen for the clearing of the current output cell\n",
       "var outputEl = gd.closest('.output');\n",
       "if (outputEl) {{\n",
       "    x.observe(outputEl, {childList: true});\n",
       "}}\n",
       "\n",
       "                        })\n",
       "                };\n",
       "                });\n",
       "            </script>\n",
       "        </div>"
      ]
     },
     "metadata": {},
     "output_type": "display_data"
    }
   ],
   "source": [
    "import plotly.graph_objects as go\n",
    "\n",
    "fig = go.Figure(go.Bar(\n",
    "            x=contrib[0],\n",
    "            y=contrib.names,\n",
    "            orientation='h'))\n",
    "\n",
    "fig.show()"
   ]
  },
  {
   "cell_type": "code",
   "execution_count": null,
   "id": "public-length",
   "metadata": {},
   "outputs": [],
   "source": []
  },
  {
   "cell_type": "code",
   "execution_count": null,
   "id": "raising-december",
   "metadata": {},
   "outputs": [],
   "source": []
  },
  {
   "cell_type": "code",
   "execution_count": null,
   "id": "scientific-burton",
   "metadata": {},
   "outputs": [],
   "source": []
  }
 ],
 "metadata": {
  "kernelspec": {
   "display_name": "Python 3",
   "language": "python",
   "name": "python3"
  },
  "language_info": {
   "codemirror_mode": {
    "name": "ipython",
    "version": 3
   },
   "file_extension": ".py",
   "mimetype": "text/x-python",
   "name": "python",
   "nbconvert_exporter": "python",
   "pygments_lexer": "ipython3",
   "version": "3.8.5"
  }
 },
 "nbformat": 4,
 "nbformat_minor": 5
}
